{
  "nbformat": 4,
  "nbformat_minor": 0,
  "metadata": {
    "colab": {
      "provenance": [],
      "authorship_tag": "ABX9TyMgtuP25QOmap7LtWFpP/cb",
      "include_colab_link": true
    },
    "kernelspec": {
      "name": "python3",
      "display_name": "Python 3"
    },
    "language_info": {
      "name": "python"
    }
  },
  "cells": [
    {
      "cell_type": "markdown",
      "metadata": {
        "id": "view-in-github",
        "colab_type": "text"
      },
      "source": [
        "<a href=\"https://colab.research.google.com/github/Santhosh-1801/DL/blob/main/ANNBasics.ipynb\" target=\"_parent\"><img src=\"https://colab.research.google.com/assets/colab-badge.svg\" alt=\"Open In Colab\"/></a>"
      ]
    },
    {
      "cell_type": "code",
      "execution_count": 1,
      "metadata": {
        "id": "8MXSqQ7OtuVR"
      },
      "outputs": [],
      "source": [
        "import numpy as np\n",
        "import matplotlib.pyplot as plt\n",
        "import pandas as pd"
      ]
    },
    {
      "cell_type": "code",
      "source": [
        "import keras\n",
        "from keras.models import Sequential\n",
        "from keras.layers import Dense\n",
        "from keras.layers import LeakyReLU,PReLU,ELU\n",
        "from keras.layers import Dropout\n"
      ],
      "metadata": {
        "id": "BcV0VVmJt1xC"
      },
      "execution_count": 2,
      "outputs": []
    },
    {
      "cell_type": "code",
      "source": [
        "dataset = pd.read_csv(\"https://raw.githubusercontent.com/krishnaik06/Complete-Deep-Learning/master/ANN/Churn_Modelling.csv\")\n",
        "X = dataset.iloc[:, 3:13]\n",
        "y = dataset.iloc[:, 13]\n",
        "\n",
        "#Create dummy variables\n",
        "geography=pd.get_dummies(X[\"Geography\"],drop_first=True)\n",
        "gender=pd.get_dummies(X['Gender'],drop_first=True)\n",
        "\n",
        "## Concatenate the Data Frames\n",
        "\n",
        "X=pd.concat([X,geography,gender],axis=1)\n",
        "\n",
        "## Drop Unnecessary columns\n",
        "X=X.drop(['Geography','Gender'],axis=1)\n",
        "\n",
        "# Splitting the dataset into the Training set and Test set\n",
        "from sklearn.model_selection import train_test_split\n",
        "X_train, X_test, y_train, y_test = train_test_split(X, y, test_size = 0.2, random_state = 0)\n",
        "\n",
        "# Feature Scaling\n",
        "from sklearn.preprocessing import StandardScaler\n",
        "sc = StandardScaler()\n",
        "X_train = sc.fit_transform(X_train)\n",
        "X_test = sc.transform(X_test)"
      ],
      "metadata": {
        "id": "ILXrnMsLt-0Z"
      },
      "execution_count": 3,
      "outputs": []
    },
    {
      "cell_type": "code",
      "source": [
        "X_train"
      ],
      "metadata": {
        "colab": {
          "base_uri": "https://localhost:8080/"
        },
        "id": "I1yMvi4koly7",
        "outputId": "48a144cf-6f60-4bb1-c1d2-d9db7fd1e669"
      },
      "execution_count": 4,
      "outputs": [
        {
          "output_type": "execute_result",
          "data": {
            "text/plain": [
              "array([[ 0.16958176, -0.46460796,  0.00666099, ..., -0.5698444 ,\n",
              "         1.74309049, -1.09168714],\n",
              "       [-2.30455945,  0.30102557, -1.37744033, ...,  1.75486502,\n",
              "        -0.57369368,  0.91601335],\n",
              "       [-1.19119591, -0.94312892, -1.031415  , ..., -0.5698444 ,\n",
              "        -0.57369368, -1.09168714],\n",
              "       ...,\n",
              "       [ 0.9015152 , -0.36890377,  0.00666099, ..., -0.5698444 ,\n",
              "        -0.57369368,  0.91601335],\n",
              "       [-0.62420521, -0.08179119,  1.39076231, ..., -0.5698444 ,\n",
              "         1.74309049, -1.09168714],\n",
              "       [-0.28401079,  0.87525072, -1.37744033, ...,  1.75486502,\n",
              "        -0.57369368, -1.09168714]])"
            ]
          },
          "metadata": {},
          "execution_count": 4
        }
      ]
    },
    {
      "cell_type": "code",
      "source": [
        "X_test"
      ],
      "metadata": {
        "colab": {
          "base_uri": "https://localhost:8080/"
        },
        "id": "A55pKzoUoohs",
        "outputId": "332984fb-7d91-40f8-c10a-d747b5a85786"
      },
      "execution_count": 5,
      "outputs": [
        {
          "output_type": "execute_result",
          "data": {
            "text/plain": [
              "array([[-0.55204276, -0.36890377,  1.04473698, ...,  1.75486502,\n",
              "        -0.57369368, -1.09168714],\n",
              "       [-1.31490297,  0.10961719, -1.031415  , ..., -0.5698444 ,\n",
              "        -0.57369368, -1.09168714],\n",
              "       [ 0.57162971,  0.30102557,  1.04473698, ..., -0.5698444 ,\n",
              "         1.74309049, -1.09168714],\n",
              "       ...,\n",
              "       [-0.74791227, -0.27319958, -1.37744033, ..., -0.5698444 ,\n",
              "         1.74309049,  0.91601335],\n",
              "       [-0.00566991, -0.46460796, -0.33936434, ...,  1.75486502,\n",
              "        -0.57369368,  0.91601335],\n",
              "       [-0.79945688, -0.84742473,  1.04473698, ...,  1.75486502,\n",
              "        -0.57369368,  0.91601335]])"
            ]
          },
          "metadata": {},
          "execution_count": 5
        }
      ]
    },
    {
      "cell_type": "code",
      "source": [
        "classifier=Sequential()"
      ],
      "metadata": {
        "id": "DUOkzaVBw5S3"
      },
      "execution_count": 6,
      "outputs": []
    },
    {
      "cell_type": "code",
      "source": [
        "# Adding the input layer and the first hidden layer\n",
        "classifier.add(Dense(units = 6, kernel_initializer = 'he_uniform', activation='relu', input_dim = 11))\n",
        "\n",
        "# Adding the second hidden layer\n",
        "classifier.add(Dense(units = 6, kernel_initializer = 'he_uniform', activation='relu'))\n",
        "\n",
        "# Adding the output layer\n",
        "classifier.add(Dense(units = 1, kernel_initializer = 'glorot_uniform', activation = 'sigmoid'))\n",
        "\n",
        "# Compiling the ANN\n",
        "classifier.compile(optimizer = 'adam', loss = 'binary_crossentropy', metrics = ['accuracy'])"
      ],
      "metadata": {
        "id": "gG0OHsG2w9Ii"
      },
      "execution_count": 11,
      "outputs": []
    },
    {
      "cell_type": "code",
      "source": [
        "model_history = classifier.fit(X_train, y_train, validation_split=0.33, batch_size=10, epochs=100)"
      ],
      "metadata": {
        "colab": {
          "base_uri": "https://localhost:8080/"
        },
        "id": "rm1WfeVTy04H",
        "outputId": "e3d360d8-a4bc-4538-bf12-f7f48ffdcbc6"
      },
      "execution_count": 13,
      "outputs": [
        {
          "output_type": "stream",
          "name": "stdout",
          "text": [
            "Epoch 1/100\n",
            "536/536 [==============================] - 8s 9ms/step - loss: 0.6377 - accuracy: 0.7447 - val_loss: 0.5884 - val_accuracy: 0.7955\n",
            "Epoch 2/100\n",
            "536/536 [==============================] - 5s 9ms/step - loss: 0.5601 - accuracy: 0.7962 - val_loss: 0.5391 - val_accuracy: 0.7955\n",
            "Epoch 3/100\n",
            "536/536 [==============================] - 3s 6ms/step - loss: 0.5263 - accuracy: 0.7962 - val_loss: 0.5172 - val_accuracy: 0.7955\n",
            "Epoch 4/100\n",
            "536/536 [==============================] - 3s 5ms/step - loss: 0.5034 - accuracy: 0.7962 - val_loss: 0.4923 - val_accuracy: 0.7955\n",
            "Epoch 5/100\n",
            "536/536 [==============================] - 2s 3ms/step - loss: 0.4771 - accuracy: 0.7962 - val_loss: 0.4732 - val_accuracy: 0.7955\n",
            "Epoch 6/100\n",
            "536/536 [==============================] - 2s 3ms/step - loss: 0.4590 - accuracy: 0.7962 - val_loss: 0.4628 - val_accuracy: 0.7955\n",
            "Epoch 7/100\n",
            "536/536 [==============================] - 3s 5ms/step - loss: 0.4479 - accuracy: 0.8022 - val_loss: 0.4537 - val_accuracy: 0.8058\n",
            "Epoch 8/100\n",
            "536/536 [==============================] - 2s 3ms/step - loss: 0.4405 - accuracy: 0.8132 - val_loss: 0.4484 - val_accuracy: 0.8069\n",
            "Epoch 9/100\n",
            "536/536 [==============================] - 2s 4ms/step - loss: 0.4347 - accuracy: 0.8128 - val_loss: 0.4449 - val_accuracy: 0.8088\n",
            "Epoch 10/100\n",
            "536/536 [==============================] - 2s 4ms/step - loss: 0.4298 - accuracy: 0.8115 - val_loss: 0.4383 - val_accuracy: 0.8107\n",
            "Epoch 11/100\n",
            "536/536 [==============================] - 2s 3ms/step - loss: 0.4235 - accuracy: 0.8141 - val_loss: 0.4307 - val_accuracy: 0.8137\n",
            "Epoch 12/100\n",
            "536/536 [==============================] - 2s 3ms/step - loss: 0.4149 - accuracy: 0.8229 - val_loss: 0.4202 - val_accuracy: 0.8209\n",
            "Epoch 13/100\n",
            "536/536 [==============================] - 2s 3ms/step - loss: 0.4052 - accuracy: 0.8272 - val_loss: 0.4125 - val_accuracy: 0.8236\n",
            "Epoch 14/100\n",
            "536/536 [==============================] - 2s 5ms/step - loss: 0.3962 - accuracy: 0.8322 - val_loss: 0.4061 - val_accuracy: 0.8273\n",
            "Epoch 15/100\n",
            "536/536 [==============================] - 2s 4ms/step - loss: 0.3893 - accuracy: 0.8373 - val_loss: 0.4007 - val_accuracy: 0.8326\n",
            "Epoch 16/100\n",
            "536/536 [==============================] - 2s 3ms/step - loss: 0.3837 - accuracy: 0.8412 - val_loss: 0.3979 - val_accuracy: 0.8349\n",
            "Epoch 17/100\n",
            "536/536 [==============================] - 2s 3ms/step - loss: 0.3801 - accuracy: 0.8425 - val_loss: 0.3983 - val_accuracy: 0.8334\n",
            "Epoch 18/100\n",
            "536/536 [==============================] - 1s 3ms/step - loss: 0.3762 - accuracy: 0.8433 - val_loss: 0.3918 - val_accuracy: 0.8402\n",
            "Epoch 19/100\n",
            "536/536 [==============================] - 1s 3ms/step - loss: 0.3736 - accuracy: 0.8447 - val_loss: 0.3880 - val_accuracy: 0.8421\n",
            "Epoch 20/100\n",
            "536/536 [==============================] - 2s 3ms/step - loss: 0.3696 - accuracy: 0.8477 - val_loss: 0.3890 - val_accuracy: 0.8391\n",
            "Epoch 21/100\n",
            "536/536 [==============================] - 2s 4ms/step - loss: 0.3674 - accuracy: 0.8447 - val_loss: 0.3848 - val_accuracy: 0.8413\n",
            "Epoch 22/100\n",
            "536/536 [==============================] - 2s 4ms/step - loss: 0.3645 - accuracy: 0.8533 - val_loss: 0.3860 - val_accuracy: 0.8391\n",
            "Epoch 23/100\n",
            "536/536 [==============================] - 2s 3ms/step - loss: 0.3632 - accuracy: 0.8526 - val_loss: 0.3807 - val_accuracy: 0.8448\n",
            "Epoch 24/100\n",
            "536/536 [==============================] - 1s 3ms/step - loss: 0.3596 - accuracy: 0.8511 - val_loss: 0.3794 - val_accuracy: 0.8470\n",
            "Epoch 25/100\n",
            "536/536 [==============================] - 1s 3ms/step - loss: 0.3577 - accuracy: 0.8541 - val_loss: 0.3780 - val_accuracy: 0.8504\n",
            "Epoch 26/100\n",
            "536/536 [==============================] - 2s 3ms/step - loss: 0.3555 - accuracy: 0.8552 - val_loss: 0.3754 - val_accuracy: 0.8519\n",
            "Epoch 27/100\n",
            "536/536 [==============================] - 2s 3ms/step - loss: 0.3523 - accuracy: 0.8565 - val_loss: 0.3794 - val_accuracy: 0.8413\n",
            "Epoch 28/100\n",
            "536/536 [==============================] - 2s 4ms/step - loss: 0.3509 - accuracy: 0.8539 - val_loss: 0.3720 - val_accuracy: 0.8516\n",
            "Epoch 29/100\n",
            "536/536 [==============================] - 3s 5ms/step - loss: 0.3491 - accuracy: 0.8565 - val_loss: 0.3710 - val_accuracy: 0.8512\n",
            "Epoch 30/100\n",
            "536/536 [==============================] - 2s 3ms/step - loss: 0.3477 - accuracy: 0.8559 - val_loss: 0.3698 - val_accuracy: 0.8516\n",
            "Epoch 31/100\n",
            "536/536 [==============================] - 2s 3ms/step - loss: 0.3448 - accuracy: 0.8574 - val_loss: 0.3697 - val_accuracy: 0.8508\n",
            "Epoch 32/100\n",
            "536/536 [==============================] - 2s 3ms/step - loss: 0.3428 - accuracy: 0.8597 - val_loss: 0.3687 - val_accuracy: 0.8523\n",
            "Epoch 33/100\n",
            "536/536 [==============================] - 2s 3ms/step - loss: 0.3418 - accuracy: 0.8572 - val_loss: 0.3661 - val_accuracy: 0.8565\n",
            "Epoch 34/100\n",
            "536/536 [==============================] - 2s 3ms/step - loss: 0.3399 - accuracy: 0.8602 - val_loss: 0.3660 - val_accuracy: 0.8531\n",
            "Epoch 35/100\n",
            "536/536 [==============================] - 2s 4ms/step - loss: 0.3396 - accuracy: 0.8586 - val_loss: 0.3622 - val_accuracy: 0.8569\n",
            "Epoch 36/100\n",
            "536/536 [==============================] - 2s 4ms/step - loss: 0.3386 - accuracy: 0.8619 - val_loss: 0.3624 - val_accuracy: 0.8588\n",
            "Epoch 37/100\n",
            "536/536 [==============================] - 2s 3ms/step - loss: 0.3375 - accuracy: 0.8606 - val_loss: 0.3611 - val_accuracy: 0.8550\n",
            "Epoch 38/100\n",
            "536/536 [==============================] - 2s 3ms/step - loss: 0.3374 - accuracy: 0.8638 - val_loss: 0.3627 - val_accuracy: 0.8546\n",
            "Epoch 39/100\n",
            "536/536 [==============================] - 1s 3ms/step - loss: 0.3361 - accuracy: 0.8610 - val_loss: 0.3608 - val_accuracy: 0.8580\n",
            "Epoch 40/100\n",
            "536/536 [==============================] - 1s 3ms/step - loss: 0.3357 - accuracy: 0.8623 - val_loss: 0.3591 - val_accuracy: 0.8561\n",
            "Epoch 41/100\n",
            "536/536 [==============================] - 2s 3ms/step - loss: 0.3342 - accuracy: 0.8617 - val_loss: 0.3590 - val_accuracy: 0.8595\n",
            "Epoch 42/100\n",
            "536/536 [==============================] - 2s 4ms/step - loss: 0.3340 - accuracy: 0.8640 - val_loss: 0.3632 - val_accuracy: 0.8550\n",
            "Epoch 43/100\n",
            "536/536 [==============================] - 3s 5ms/step - loss: 0.3342 - accuracy: 0.8623 - val_loss: 0.3601 - val_accuracy: 0.8573\n",
            "Epoch 44/100\n",
            "536/536 [==============================] - 2s 3ms/step - loss: 0.3338 - accuracy: 0.8640 - val_loss: 0.3608 - val_accuracy: 0.8561\n",
            "Epoch 45/100\n",
            "536/536 [==============================] - 2s 5ms/step - loss: 0.3334 - accuracy: 0.8627 - val_loss: 0.3578 - val_accuracy: 0.8584\n",
            "Epoch 46/100\n",
            "536/536 [==============================] - 1s 3ms/step - loss: 0.3335 - accuracy: 0.8656 - val_loss: 0.3605 - val_accuracy: 0.8516\n",
            "Epoch 47/100\n",
            "536/536 [==============================] - 2s 3ms/step - loss: 0.3329 - accuracy: 0.8623 - val_loss: 0.3591 - val_accuracy: 0.8523\n",
            "Epoch 48/100\n",
            "536/536 [==============================] - 2s 3ms/step - loss: 0.3322 - accuracy: 0.8627 - val_loss: 0.3570 - val_accuracy: 0.8595\n",
            "Epoch 49/100\n",
            "536/536 [==============================] - 2s 4ms/step - loss: 0.3329 - accuracy: 0.8649 - val_loss: 0.3568 - val_accuracy: 0.8554\n",
            "Epoch 50/100\n",
            "536/536 [==============================] - 2s 5ms/step - loss: 0.3324 - accuracy: 0.8630 - val_loss: 0.3593 - val_accuracy: 0.8516\n",
            "Epoch 51/100\n",
            "536/536 [==============================] - 2s 3ms/step - loss: 0.3317 - accuracy: 0.8630 - val_loss: 0.3589 - val_accuracy: 0.8591\n",
            "Epoch 52/100\n",
            "536/536 [==============================] - 1s 3ms/step - loss: 0.3319 - accuracy: 0.8636 - val_loss: 0.3569 - val_accuracy: 0.8580\n",
            "Epoch 53/100\n",
            "536/536 [==============================] - 2s 3ms/step - loss: 0.3314 - accuracy: 0.8636 - val_loss: 0.3567 - val_accuracy: 0.8584\n",
            "Epoch 54/100\n",
            "536/536 [==============================] - 1s 3ms/step - loss: 0.3317 - accuracy: 0.8634 - val_loss: 0.3562 - val_accuracy: 0.8610\n",
            "Epoch 55/100\n",
            "536/536 [==============================] - 2s 3ms/step - loss: 0.3306 - accuracy: 0.8638 - val_loss: 0.3602 - val_accuracy: 0.8554\n",
            "Epoch 56/100\n",
            "536/536 [==============================] - 2s 4ms/step - loss: 0.3307 - accuracy: 0.8643 - val_loss: 0.3582 - val_accuracy: 0.8557\n",
            "Epoch 57/100\n",
            "536/536 [==============================] - 2s 5ms/step - loss: 0.3314 - accuracy: 0.8645 - val_loss: 0.3597 - val_accuracy: 0.8557\n",
            "Epoch 58/100\n",
            "536/536 [==============================] - 2s 3ms/step - loss: 0.3303 - accuracy: 0.8645 - val_loss: 0.3582 - val_accuracy: 0.8554\n",
            "Epoch 59/100\n",
            "536/536 [==============================] - 2s 4ms/step - loss: 0.3305 - accuracy: 0.8649 - val_loss: 0.3583 - val_accuracy: 0.8591\n",
            "Epoch 60/100\n",
            "536/536 [==============================] - 2s 4ms/step - loss: 0.3306 - accuracy: 0.8662 - val_loss: 0.3587 - val_accuracy: 0.8576\n",
            "Epoch 61/100\n",
            "536/536 [==============================] - 2s 3ms/step - loss: 0.3311 - accuracy: 0.8642 - val_loss: 0.3571 - val_accuracy: 0.8588\n",
            "Epoch 62/100\n",
            "536/536 [==============================] - 2s 4ms/step - loss: 0.3306 - accuracy: 0.8634 - val_loss: 0.3588 - val_accuracy: 0.8538\n",
            "Epoch 63/100\n",
            "536/536 [==============================] - 2s 4ms/step - loss: 0.3311 - accuracy: 0.8651 - val_loss: 0.3586 - val_accuracy: 0.8573\n",
            "Epoch 64/100\n",
            "536/536 [==============================] - 3s 5ms/step - loss: 0.3300 - accuracy: 0.8655 - val_loss: 0.3596 - val_accuracy: 0.8535\n",
            "Epoch 65/100\n",
            "536/536 [==============================] - 2s 3ms/step - loss: 0.3307 - accuracy: 0.8649 - val_loss: 0.3586 - val_accuracy: 0.8584\n",
            "Epoch 66/100\n",
            "536/536 [==============================] - 2s 4ms/step - loss: 0.3294 - accuracy: 0.8643 - val_loss: 0.3590 - val_accuracy: 0.8576\n",
            "Epoch 67/100\n",
            "536/536 [==============================] - 3s 5ms/step - loss: 0.3301 - accuracy: 0.8656 - val_loss: 0.3565 - val_accuracy: 0.8599\n",
            "Epoch 68/100\n",
            "536/536 [==============================] - 2s 4ms/step - loss: 0.3297 - accuracy: 0.8627 - val_loss: 0.3581 - val_accuracy: 0.8588\n",
            "Epoch 69/100\n",
            "536/536 [==============================] - 2s 4ms/step - loss: 0.3294 - accuracy: 0.8640 - val_loss: 0.3632 - val_accuracy: 0.8512\n",
            "Epoch 70/100\n",
            "536/536 [==============================] - 3s 5ms/step - loss: 0.3295 - accuracy: 0.8645 - val_loss: 0.3587 - val_accuracy: 0.8569\n",
            "Epoch 71/100\n",
            "536/536 [==============================] - 2s 4ms/step - loss: 0.3297 - accuracy: 0.8656 - val_loss: 0.3578 - val_accuracy: 0.8580\n",
            "Epoch 72/100\n",
            "536/536 [==============================] - 2s 3ms/step - loss: 0.3294 - accuracy: 0.8645 - val_loss: 0.3590 - val_accuracy: 0.8546\n",
            "Epoch 73/100\n",
            "536/536 [==============================] - 2s 3ms/step - loss: 0.3286 - accuracy: 0.8645 - val_loss: 0.3570 - val_accuracy: 0.8588\n",
            "Epoch 74/100\n",
            "536/536 [==============================] - 2s 3ms/step - loss: 0.3301 - accuracy: 0.8653 - val_loss: 0.3583 - val_accuracy: 0.8561\n",
            "Epoch 75/100\n",
            "536/536 [==============================] - 2s 4ms/step - loss: 0.3302 - accuracy: 0.8638 - val_loss: 0.3584 - val_accuracy: 0.8573\n",
            "Epoch 76/100\n",
            "536/536 [==============================] - 2s 4ms/step - loss: 0.3290 - accuracy: 0.8647 - val_loss: 0.3572 - val_accuracy: 0.8591\n",
            "Epoch 77/100\n",
            "536/536 [==============================] - 2s 4ms/step - loss: 0.3285 - accuracy: 0.8660 - val_loss: 0.3581 - val_accuracy: 0.8573\n",
            "Epoch 78/100\n",
            "536/536 [==============================] - 2s 3ms/step - loss: 0.3292 - accuracy: 0.8642 - val_loss: 0.3572 - val_accuracy: 0.8595\n",
            "Epoch 79/100\n",
            "536/536 [==============================] - 2s 3ms/step - loss: 0.3295 - accuracy: 0.8647 - val_loss: 0.3571 - val_accuracy: 0.8580\n",
            "Epoch 80/100\n",
            "536/536 [==============================] - 2s 3ms/step - loss: 0.3286 - accuracy: 0.8645 - val_loss: 0.3578 - val_accuracy: 0.8584\n",
            "Epoch 81/100\n",
            "536/536 [==============================] - 2s 3ms/step - loss: 0.3283 - accuracy: 0.8638 - val_loss: 0.3579 - val_accuracy: 0.8591\n",
            "Epoch 82/100\n",
            "536/536 [==============================] - 2s 3ms/step - loss: 0.3285 - accuracy: 0.8660 - val_loss: 0.3571 - val_accuracy: 0.8576\n",
            "Epoch 83/100\n",
            "536/536 [==============================] - 2s 3ms/step - loss: 0.3278 - accuracy: 0.8647 - val_loss: 0.3578 - val_accuracy: 0.8580\n",
            "Epoch 84/100\n",
            "536/536 [==============================] - 3s 5ms/step - loss: 0.3277 - accuracy: 0.8636 - val_loss: 0.3578 - val_accuracy: 0.8588\n",
            "Epoch 85/100\n",
            "536/536 [==============================] - 2s 3ms/step - loss: 0.3276 - accuracy: 0.8636 - val_loss: 0.3619 - val_accuracy: 0.8580\n",
            "Epoch 86/100\n",
            "536/536 [==============================] - 2s 3ms/step - loss: 0.3288 - accuracy: 0.8643 - val_loss: 0.3583 - val_accuracy: 0.8580\n",
            "Epoch 87/100\n",
            "536/536 [==============================] - 2s 3ms/step - loss: 0.3291 - accuracy: 0.8660 - val_loss: 0.3604 - val_accuracy: 0.8557\n",
            "Epoch 88/100\n",
            "536/536 [==============================] - 2s 4ms/step - loss: 0.3278 - accuracy: 0.8681 - val_loss: 0.3568 - val_accuracy: 0.8607\n",
            "Epoch 89/100\n",
            "536/536 [==============================] - 2s 3ms/step - loss: 0.3281 - accuracy: 0.8658 - val_loss: 0.3576 - val_accuracy: 0.8599\n",
            "Epoch 90/100\n",
            "536/536 [==============================] - 2s 3ms/step - loss: 0.3275 - accuracy: 0.8653 - val_loss: 0.3575 - val_accuracy: 0.8599\n",
            "Epoch 91/100\n",
            "536/536 [==============================] - 3s 5ms/step - loss: 0.3280 - accuracy: 0.8653 - val_loss: 0.3586 - val_accuracy: 0.8573\n",
            "Epoch 92/100\n",
            "536/536 [==============================] - 2s 3ms/step - loss: 0.3289 - accuracy: 0.8664 - val_loss: 0.3569 - val_accuracy: 0.8610\n",
            "Epoch 93/100\n",
            "536/536 [==============================] - 2s 3ms/step - loss: 0.3278 - accuracy: 0.8656 - val_loss: 0.3568 - val_accuracy: 0.8599\n",
            "Epoch 94/100\n",
            "536/536 [==============================] - 2s 3ms/step - loss: 0.3269 - accuracy: 0.8640 - val_loss: 0.3584 - val_accuracy: 0.8595\n",
            "Epoch 95/100\n",
            "536/536 [==============================] - 2s 3ms/step - loss: 0.3274 - accuracy: 0.8640 - val_loss: 0.3568 - val_accuracy: 0.8591\n",
            "Epoch 96/100\n",
            "536/536 [==============================] - 2s 3ms/step - loss: 0.3276 - accuracy: 0.8630 - val_loss: 0.3570 - val_accuracy: 0.8584\n",
            "Epoch 97/100\n",
            "536/536 [==============================] - 2s 3ms/step - loss: 0.3271 - accuracy: 0.8656 - val_loss: 0.3568 - val_accuracy: 0.8610\n",
            "Epoch 98/100\n",
            "536/536 [==============================] - 3s 5ms/step - loss: 0.3269 - accuracy: 0.8664 - val_loss: 0.3573 - val_accuracy: 0.8607\n",
            "Epoch 99/100\n",
            "536/536 [==============================] - 2s 4ms/step - loss: 0.3267 - accuracy: 0.8664 - val_loss: 0.3576 - val_accuracy: 0.8618\n",
            "Epoch 100/100\n",
            "536/536 [==============================] - 2s 3ms/step - loss: 0.3274 - accuracy: 0.8668 - val_loss: 0.3581 - val_accuracy: 0.8569\n"
          ]
        }
      ]
    },
    {
      "cell_type": "code",
      "source": [
        "print(model_history.history.keys())\n",
        "# summarize history for accuracy\n",
        "plt.plot(model_history.history['accuracy'])\n",
        "plt.plot(model_history.history['val_accuracy'])\n",
        "plt.title('model accuracy')\n",
        "plt.ylabel('accuracy')\n",
        "plt.xlabel('epoch')\n",
        "plt.legend(['train', 'test'], loc='upper left')\n",
        "plt.show()"
      ],
      "metadata": {
        "colab": {
          "base_uri": "https://localhost:8080/",
          "height": 489
        },
        "id": "mS04OCG03k9K",
        "outputId": "347228a7-fc77-4a26-948e-e0c859970a6d"
      },
      "execution_count": 15,
      "outputs": [
        {
          "output_type": "stream",
          "name": "stdout",
          "text": [
            "dict_keys(['loss', 'accuracy', 'val_loss', 'val_accuracy'])\n"
          ]
        },
        {
          "output_type": "display_data",
          "data": {
            "text/plain": [
              "<Figure size 640x480 with 1 Axes>"
            ],
            "image/png": "[encoded data removed]"
          },
          "metadata": {}
        }
      ]
    },
    {
      "cell_type": "code",
      "source": [
        "plt.plot(model_history.history['loss'])\n",
        "plt.plot(model_history.history['val_loss'])\n",
        "plt.title('model loss')\n",
        "plt.ylabel('loss')\n",
        "plt.xlabel('epoch')\n",
        "plt.legend(['train', 'test'], loc='upper left')\n",
        "plt.show()\n"
      ],
      "metadata": {
        "colab": {
          "base_uri": "https://localhost:8080/",
          "height": 472
        },
        "id": "sma-q5Xc4n2G",
        "outputId": "9a12b7c0-e251-4585-aa58-1741888d3bde"
      },
      "execution_count": 16,
      "outputs": [
        {
          "output_type": "display_data",
          "data": {
            "text/plain": [
              "<Figure size 640x480 with 1 Axes>"
            ],
            "image/png": "[encoded data removed]"
          },
          "metadata": {}
        }
      ]
    },
    {
      "cell_type": "code",
      "source": [
        "y_pred = classifier.predict(X_test)\n",
        "y_pred = (y_pred > 0.5)"
      ],
      "metadata": {
        "colab": {
          "base_uri": "https://localhost:8080/"
        },
        "id": "WVfwwZPe4yNE",
        "outputId": "72dfc299-53f3-4095-d396-94ccfbbf7225"
      },
      "execution_count": 17,
      "outputs": [
        {
          "output_type": "stream",
          "name": "stdout",
          "text": [
            "63/63 [==============================] - 0s 3ms/step\n"
          ]
        }
      ]
    },
    {
      "cell_type": "code",
      "source": [
        "from sklearn.metrics import confusion_matrix\n",
        "cm = confusion_matrix(y_test, y_pred)\n",
        "\n",
        "# Calculate the Accuracy\n",
        "from sklearn.metrics import accuracy_score\n",
        "score=accuracy_score(y_pred,y_test)"
      ],
      "metadata": {
        "id": "9vIqgwUC4z2u"
      },
      "execution_count": 18,
      "outputs": []
    },
    {
      "cell_type": "code",
      "source": [
        "score"
      ],
      "metadata": {
        "colab": {
          "base_uri": "https://localhost:8080/"
        },
        "id": "LSRNvs_I41uD",
        "outputId": "466f1c65-85a8-4ca5-8d07-00affaad9eb9"
      },
      "execution_count": 19,
      "outputs": [
        {
          "output_type": "execute_result",
          "data": {
            "text/plain": [
              "0.861"
            ]
          },
          "metadata": {},
          "execution_count": 19
        }
      ]
    },
    {
      "cell_type": "code",
      "source": [],
      "metadata": {
        "id": "Hbg1LvnN42yA"
      },
      "execution_count": null,
      "outputs": []
    }
  ]
}