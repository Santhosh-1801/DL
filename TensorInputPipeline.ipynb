{
  "nbformat": 4,
  "nbformat_minor": 0,
  "metadata": {
    "colab": {
      "provenance": [],
      "authorship_tag": "ABX9TyM+PZ7xJS4lbUXgcUs35ANz",
      "include_colab_link": true
    },
    "kernelspec": {
      "name": "python3",
      "display_name": "Python 3"
    },
    "language_info": {
      "name": "python"
    }
  },
  "cells": [
    {
      "cell_type": "markdown",
      "metadata": {
        "id": "view-in-github",
        "colab_type": "text"
      },
      "source": [
        "<a href=\"https://colab.research.google.com/github/Santhosh-1801/DL/blob/main/TensorInputPipeline.ipynb\" target=\"_parent\"><img src=\"https://colab.research.google.com/assets/colab-badge.svg\" alt=\"Open In Colab\"/></a>"
      ]
    },
    {
      "cell_type": "code",
      "source": [
        "import tensorflow as tf"
      ],
      "metadata": {
        "id": "7S3gjYVXO73F"
      },
      "execution_count": 70,
      "outputs": []
    },
    {
      "cell_type": "code",
      "source": [
        "daily_sales_number=[21,22,-108,31,-1,32,34,31]"
      ],
      "metadata": {
        "id": "GqTvpg382JSf"
      },
      "execution_count": 71,
      "outputs": []
    },
    {
      "cell_type": "code",
      "source": [
        "tf_dataset=tf.data.Dataset.from_tensor_slices(daily_sales_number)"
      ],
      "metadata": {
        "id": "BImOekdk2Pla"
      },
      "execution_count": 72,
      "outputs": []
    },
    {
      "cell_type": "code",
      "source": [
        "for sales in tf_dataset:\n",
        "  print(sales)"
      ],
      "metadata": {
        "colab": {
          "base_uri": "https://localhost:8080/"
        },
        "id": "nlkiVKUk2f4T",
        "outputId": "452e4b5d-139b-4323-fb27-2b57bc79aff1"
      },
      "execution_count": 73,
      "outputs": [
        {
          "output_type": "stream",
          "name": "stdout",
          "text": [
            "tf.Tensor(21, shape=(), dtype=int32)\n",
            "tf.Tensor(22, shape=(), dtype=int32)\n",
            "tf.Tensor(-108, shape=(), dtype=int32)\n",
            "tf.Tensor(31, shape=(), dtype=int32)\n",
            "tf.Tensor(-1, shape=(), dtype=int32)\n",
            "tf.Tensor(32, shape=(), dtype=int32)\n",
            "tf.Tensor(34, shape=(), dtype=int32)\n",
            "tf.Tensor(31, shape=(), dtype=int32)\n"
          ]
        }
      ]
    },
    {
      "cell_type": "code",
      "source": [
        "tf_dataset=tf_dataset.filter(lambda x:x>0)"
      ],
      "metadata": {
        "id": "ukKLEm9Q2x_A"
      },
      "execution_count": 74,
      "outputs": []
    },
    {
      "cell_type": "code",
      "source": [
        "tf_dataset\n",
        "for sales in tf_dataset.as_numpy_iterator():\n",
        "  print(sales)\n"
      ],
      "metadata": {
        "colab": {
          "base_uri": "https://localhost:8080/"
        },
        "id": "LEx5qrbl4YYq",
        "outputId": "e0e3b283-50cd-4893-9086-6ce8db7b48c9"
      },
      "execution_count": 75,
      "outputs": [
        {
          "output_type": "stream",
          "name": "stdout",
          "text": [
            "21\n",
            "22\n",
            "31\n",
            "32\n",
            "34\n",
            "31\n"
          ]
        }
      ]
    },
    {
      "cell_type": "code",
      "source": [
        "tf_dataset=tf_dataset.map(lambda x:x*72)\n",
        "for sales in tf_dataset.as_numpy_iterator():\n",
        "  print(sales)"
      ],
      "metadata": {
        "colab": {
          "base_uri": "https://localhost:8080/"
        },
        "id": "S1nMpb7V4i-T",
        "outputId": "d08bc070-9024-4ef5-b868-7602d4b04cdd"
      },
      "execution_count": 76,
      "outputs": [
        {
          "output_type": "stream",
          "name": "stdout",
          "text": [
            "1512\n",
            "1584\n",
            "2232\n",
            "2304\n",
            "2448\n",
            "2232\n"
          ]
        }
      ]
    },
    {
      "cell_type": "code",
      "source": [
        "tf_dataset=tf.data.Dataset.from_tensor_slices(daily_sales_number)\n",
        "tf_dataset=tf_dataset.filter(lambda x:x>0).map(lambda x:x*72).shuffle(2).batch(2)\n"
      ],
      "metadata": {
        "colab": {
          "base_uri": "https://localhost:8080/"
        },
        "id": "gri_UXmE5dqK",
        "outputId": "4ed0fbe6-e0e4-4414-a466-664f5c5f63d1"
      },
      "execution_count": 77,
      "outputs": [
        {
          "output_type": "stream",
          "name": "stderr",
          "text": [
            "WARNING:tensorflow:AutoGraph could not transform <function <lambda> at 0x7fd71573f400> and will run it as-is.\n",
            "Cause: could not parse the source code of <function <lambda> at 0x7fd71573f400>: found multiple definitions with identical signatures at the location. This error may be avoided by defining each lambda on a single line and with unique argument names. The matching definitions were:\n",
            "Match 0:\n",
            "lambda x: x * 72\n",
            "\n",
            "Match 1:\n",
            "lambda x: x > 0\n",
            "\n",
            "To silence this warning, decorate the function with @tf.autograph.experimental.do_not_convert\n"
          ]
        },
        {
          "output_type": "stream",
          "name": "stdout",
          "text": [
            "WARNING: AutoGraph could not transform <function <lambda> at 0x7fd71573f400> and will run it as-is.\n",
            "Cause: could not parse the source code of <function <lambda> at 0x7fd71573f400>: found multiple definitions with identical signatures at the location. This error may be avoided by defining each lambda on a single line and with unique argument names. The matching definitions were:\n",
            "Match 0:\n",
            "lambda x: x * 72\n",
            "\n",
            "Match 1:\n",
            "lambda x: x > 0\n",
            "\n",
            "To silence this warning, decorate the function with @tf.autograph.experimental.do_not_convert\n"
          ]
        },
        {
          "output_type": "stream",
          "name": "stderr",
          "text": [
            "WARNING:tensorflow:AutoGraph could not transform <function <lambda> at 0x7fd71573eb00> and will run it as-is.\n",
            "Cause: could not parse the source code of <function <lambda> at 0x7fd71573eb00>: found multiple definitions with identical signatures at the location. This error may be avoided by defining each lambda on a single line and with unique argument names. The matching definitions were:\n",
            "Match 0:\n",
            "lambda x: x * 72\n",
            "\n",
            "Match 1:\n",
            "lambda x: x > 0\n",
            "\n",
            "To silence this warning, decorate the function with @tf.autograph.experimental.do_not_convert\n"
          ]
        },
        {
          "output_type": "stream",
          "name": "stdout",
          "text": [
            "WARNING: AutoGraph could not transform <function <lambda> at 0x7fd71573eb00> and will run it as-is.\n",
            "Cause: could not parse the source code of <function <lambda> at 0x7fd71573eb00>: found multiple definitions with identical signatures at the location. This error may be avoided by defining each lambda on a single line and with unique argument names. The matching definitions were:\n",
            "Match 0:\n",
            "lambda x: x * 72\n",
            "\n",
            "Match 1:\n",
            "lambda x: x > 0\n",
            "\n",
            "To silence this warning, decorate the function with @tf.autograph.experimental.do_not_convert\n"
          ]
        }
      ]
    },
    {
      "cell_type": "code",
      "source": [
        "for sales in tf_dataset.as_numpy_iterator():\n",
        "  print(sales)"
      ],
      "metadata": {
        "colab": {
          "base_uri": "https://localhost:8080/"
        },
        "id": "AJTMDNEAAA9_",
        "outputId": "1e11d805-b3fb-4ff9-fcc6-66dd90384aa1"
      },
      "execution_count": 78,
      "outputs": [
        {
          "output_type": "stream",
          "name": "stdout",
          "text": [
            "[1584 2232]\n",
            "[2304 2448]\n",
            "[2232 1512]\n"
          ]
        }
      ]
    },
    {
      "cell_type": "code",
      "source": [
        "images_ds=tf.data.Dataset.list_files('/content/sample_data/images/*/*',shuffle=False)"
      ],
      "metadata": {
        "id": "9tTJFqKrALQb"
      },
      "execution_count": 79,
      "outputs": []
    },
    {
      "cell_type": "code",
      "source": [
        "for file in images_ds.take(3):\n",
        "  print(file.numpy())"
      ],
      "metadata": {
        "colab": {
          "base_uri": "https://localhost:8080/"
        },
        "id": "08oRYitycPpn",
        "outputId": "ea37e6b2-1796-4717-e5ca-acb449c3fb68"
      },
      "execution_count": 80,
      "outputs": [
        {
          "output_type": "stream",
          "name": "stdout",
          "text": [
            "b'/content/sample_data/images/cat/20 Reasons Why Cats Make the Best Pets....jpg'\n",
            "b'/content/sample_data/images/cat/7 Foods Your Cat Can_t Eat.jpg'\n",
            "b'/content/sample_data/images/cat/A cat appears to have caught the....jpg'\n"
          ]
        }
      ]
    },
    {
      "cell_type": "code",
      "source": [
        "images_ds=images_ds.shuffle(200)\n"
      ],
      "metadata": {
        "id": "qNFsR5ffmQsK"
      },
      "execution_count": 81,
      "outputs": []
    },
    {
      "cell_type": "code",
      "source": [
        "class_names=['cat','dog']"
      ],
      "metadata": {
        "id": "NWs_FePyezeP"
      },
      "execution_count": 82,
      "outputs": []
    },
    {
      "cell_type": "code",
      "source": [
        "image_count=len(images_ds)"
      ],
      "metadata": {
        "id": "tgMfpZ91lVKv"
      },
      "execution_count": 83,
      "outputs": []
    },
    {
      "cell_type": "code",
      "source": [
        "image_count"
      ],
      "metadata": {
        "colab": {
          "base_uri": "https://localhost:8080/"
        },
        "id": "Sceqv2hDlr_a",
        "outputId": "f4fcfc4d-1068-4856-8de7-5888701b912d"
      },
      "execution_count": 84,
      "outputs": [
        {
          "output_type": "execute_result",
          "data": {
            "text/plain": [
              "130"
            ]
          },
          "metadata": {},
          "execution_count": 84
        }
      ]
    },
    {
      "cell_type": "code",
      "source": [
        "train_size=int(image_count*0.8)"
      ],
      "metadata": {
        "id": "tZKN-fDwltu2"
      },
      "execution_count": 85,
      "outputs": []
    },
    {
      "cell_type": "code",
      "source": [
        "train_size"
      ],
      "metadata": {
        "colab": {
          "base_uri": "https://localhost:8080/"
        },
        "id": "ZM8bAn94oGPo",
        "outputId": "07471754-c2f3-487a-88c4-69f10b147b81"
      },
      "execution_count": 86,
      "outputs": [
        {
          "output_type": "execute_result",
          "data": {
            "text/plain": [
              "104"
            ]
          },
          "metadata": {},
          "execution_count": 86
        }
      ]
    },
    {
      "cell_type": "code",
      "source": [
        "train_ds=images_ds.take(train_size)\n",
        "test_ds=images_ds.skip(train_size)"
      ],
      "metadata": {
        "id": "0ggHmFVyoI-W"
      },
      "execution_count": 87,
      "outputs": []
    },
    {
      "cell_type": "code",
      "source": [
        "len(test_ds)"
      ],
      "metadata": {
        "colab": {
          "base_uri": "https://localhost:8080/"
        },
        "id": "BCUAiZtEotjt",
        "outputId": "7f66f12e-e217-4125-b37d-165e03cb12d9"
      },
      "execution_count": 88,
      "outputs": [
        {
          "output_type": "execute_result",
          "data": {
            "text/plain": [
              "26"
            ]
          },
          "metadata": {},
          "execution_count": 88
        }
      ]
    },
    {
      "cell_type": "code",
      "source": [
        "def get_label(file_path):\n",
        "  import os\n",
        "  return tf.strings.split(file_path,os.path.sep)[-2]\n"
      ],
      "metadata": {
        "id": "_5anjI5ZowpQ"
      },
      "execution_count": 89,
      "outputs": []
    },
    {
      "cell_type": "code",
      "source": [
        "def process_image(file_path):\n",
        "  label=get_label(file_path)\n",
        "  img=tf.io.read_file(file_path)\n",
        "  img=tf.image.decode_jpeg(img)\n",
        "  img=tf.image.resize(img,[128,128])\n",
        "  return img,label"
      ],
      "metadata": {
        "id": "xtouYzfqpaxY"
      },
      "execution_count": 90,
      "outputs": []
    },
    {
      "cell_type": "code",
      "source": [
        "train_ds=train_ds.map(process_image)\n"
      ],
      "metadata": {
        "id": "sukGEKbZkT_F"
      },
      "execution_count": 91,
      "outputs": []
    },
    {
      "cell_type": "code",
      "source": [
        "for image,label in train_ds.take(3):\n",
        "  print(\"Image is \",image)\n",
        "  print(\"Label is\",label)\n",
        "\n"
      ],
      "metadata": {
        "colab": {
          "base_uri": "https://localhost:8080/"
        },
        "id": "dCl44ADikiHv",
        "outputId": "7fe5933f-9773-4704-bccc-0444f84709ce"
      },
      "execution_count": 94,
      "outputs": [
        {
          "output_type": "stream",
          "name": "stdout",
          "text": [
            "Image is  tf.Tensor(\n",
            "[[[150.1206   169.1206   105.120605]\n",
            "  [150.       169.       105.      ]\n",
            "  [151.       172.       107.      ]\n",
            "  ...\n",
            "  [166.       176.       107.      ]\n",
            "  [167.29688  175.85156  111.      ]\n",
            "  [166.45654  175.01123  110.15967 ]]\n",
            "\n",
            " [[149.       168.       104.      ]\n",
            "  [150.       169.       105.      ]\n",
            "  [151.       172.       107.      ]\n",
            "  ...\n",
            "  [167.       178.       110.      ]\n",
            "  [168.       177.       114.      ]\n",
            "  [168.       177.       114.      ]]\n",
            "\n",
            " [[149.       168.       104.      ]\n",
            "  [149.5625   168.5625   104.5625  ]\n",
            "  [151.       172.       107.      ]\n",
            "  ...\n",
            "  [165.48438  178.25781  112.      ]\n",
            "  [167.74219  178.25781  115.515625]\n",
            "  [167.13916  177.65479  114.9126  ]]\n",
            "\n",
            " ...\n",
            "\n",
            " [[116.34717  140.78125   70.36572 ]\n",
            "  [115.70752  134.0581    78.94531 ]\n",
            "  [108.99219  128.50781   72.50781 ]\n",
            "  ...\n",
            "  [129.61035  137.88428   79.305176]\n",
            "  [143.81152  147.69775  102.06152 ]\n",
            "  [116.27197  131.99707   73.67822 ]]\n",
            "\n",
            " [[120.677246 139.57324   75.05762 ]\n",
            "  [111.       122.6875    69.125   ]\n",
            "  [133.       143.        91.      ]\n",
            "  ...\n",
            "  [131.4419   144.33252   81.223145]\n",
            "  [127.63916  141.63916   92.63916 ]\n",
            "  [117.15088  140.33838   58.68701 ]]\n",
            "\n",
            " [[116.109375 132.92188   65.859375]\n",
            "  [107.66113  122.66113   65.49414 ]\n",
            "  [118.9751   129.92188   74.08154 ]\n",
            "  ...\n",
            "  [144.9878   165.15967  114.509766]\n",
            "  [127.75586  141.75586   89.63086 ]\n",
            "  [116.24902  139.24902   58.874023]]], shape=(128, 128, 3), dtype=float32)\n",
            "Label is tf.Tensor(b'dog', shape=(), dtype=string)\n",
            "Image is  tf.Tensor(\n",
            "[[[160.       132.       108.      ]\n",
            "  [160.       132.       108.      ]\n",
            "  [161.71875  133.71875  109.71875 ]\n",
            "  ...\n",
            "  [212.       185.94653  150.89185 ]\n",
            "  [212.48438  189.48438  155.48438 ]\n",
            "  [207.90625  181.90625  148.90625 ]]\n",
            "\n",
            " [[160.       132.       108.      ]\n",
            "  [160.       132.       108.      ]\n",
            "  [161.71875  133.71875  109.71875 ]\n",
            "  ...\n",
            "  [208.96094  177.52344  140.08594 ]\n",
            "  [214.28906  192.28906  155.28906 ]\n",
            "  [215.2102   194.24927  159.56958 ]]\n",
            "\n",
            " [[160.       132.       108.      ]\n",
            "  [160.       132.       108.      ]\n",
            "  [161.71875  133.71875  109.71875 ]\n",
            "  ...\n",
            "  [207.23096  175.79346  138.35596 ]\n",
            "  [210.70728  186.70728  150.70728 ]\n",
            "  [217.04688  194.04688  160.04688 ]]\n",
            "\n",
            " ...\n",
            "\n",
            " [[164.52344  137.52344  108.390625]\n",
            "  [167.89429  140.89429  111.761475]\n",
            "  [168.49048  141.49048  112.49048 ]\n",
            "  ...\n",
            "  [196.05298  162.61548  125.201416]\n",
            "  [205.87134  172.87134  137.87134 ]\n",
            "  [202.55469  173.55469  139.55469 ]]\n",
            "\n",
            " [[176.1101   149.1101   119.11011 ]\n",
            "  [178.28906  151.28906  121.28906 ]\n",
            "  [177.55054  150.55054  120.55054 ]\n",
            "  ...\n",
            "  [202.67969  171.24219  132.52344 ]\n",
            "  [208.66187  179.66187  145.66187 ]\n",
            "  [205.02344  176.66406  146.66406 ]]\n",
            "\n",
            " [[184.32031  157.32031  127.32031 ]\n",
            "  [183.77344  156.77344  126.77344 ]\n",
            "  [183.93628  156.93628  126.93628 ]\n",
            "  ...\n",
            "  [197.12744  167.84619  128.40869 ]\n",
            "  [207.45312  181.45312  146.45312 ]\n",
            "  [209.85132  186.85132  154.85132 ]]], shape=(128, 128, 3), dtype=float32)\n",
            "Label is tf.Tensor(b'cat', shape=(), dtype=string)\n",
            "Image is  tf.Tensor(\n",
            "[[[ 96.625    144.83008  158.625   ]\n",
            "  [ 99.88672  147.83398  157.83398 ]\n",
            "  [ 96.78711  143.78711  153.78711 ]\n",
            "  ...\n",
            "  [ 43.96875   38.96875   34.96875 ]\n",
            "  [ 37.396484  33.521484  29.396484]\n",
            "  [ 34.        33.        29.      ]]\n",
            "\n",
            " [[ 99.61328  144.73828  156.01953 ]\n",
            "  [102.65234  148.54297  159.69922 ]\n",
            "  [ 95.70117  142.70117  152.70117 ]\n",
            "  ...\n",
            "  [ 42.4375    36.646484  32.910156]\n",
            "  [ 36.876953  36.439453  31.753906]\n",
            "  [ 34.146484  34.697266  31.71875 ]]\n",
            "\n",
            " [[ 96.95117  146.08789  157.51953 ]\n",
            "  [ 99.73828  146.4961   158.85352 ]\n",
            "  [ 89.9082   140.9707   151.9707  ]\n",
            "  ...\n",
            "  [ 40.0625    40.9375    35.      ]\n",
            "  [ 35.90625   36.90625   31.90625 ]\n",
            "  [ 36.        37.        32.      ]]\n",
            "\n",
            " ...\n",
            "\n",
            " [[199.9375   178.9375   151.9375  ]\n",
            "  [198.9336   177.23633  150.46875 ]\n",
            "  [199.0625   173.9375   144.      ]\n",
            "  ...\n",
            "  [ 16.        21.        27.      ]\n",
            "  [ 16.503906  21.503906  27.503906]\n",
            "  [ 17.1875    22.1875    28.1875  ]]\n",
            "\n",
            " [[198.       173.28125  143.84375 ]\n",
            "  [201.21289  174.3711   145.9336  ]\n",
            "  [198.01758  171.54492  142.28125 ]\n",
            "  ...\n",
            "  [ 15.544922  20.544922  26.544922]\n",
            "  [ 17.595703  22.595703  28.595703]\n",
            "  [ 17.529297  24.28125   28.259766]]\n",
            "\n",
            " [[192.92383  165.92383  135.92383 ]\n",
            "  [196.08203  169.1875   139.625   ]\n",
            "  [196.09375  169.09375  140.28125 ]\n",
            "  ...\n",
            "  [ 16.15039   21.15039   27.15039 ]\n",
            "  [ 17.09375   22.09375   28.09375 ]\n",
            "  [ 16.46875   23.90625   27.09375 ]]], shape=(128, 128, 3), dtype=float32)\n",
            "Label is tf.Tensor(b'cat', shape=(), dtype=string)\n"
          ]
        }
      ]
    },
    {
      "cell_type": "code",
      "source": [
        "def scale(image,label):\n",
        "  return image/255,label"
      ],
      "metadata": {
        "id": "ZI2sFMN65r6l"
      },
      "execution_count": 95,
      "outputs": []
    },
    {
      "cell_type": "code",
      "source": [
        "image,label=scale(image,label)"
      ],
      "metadata": {
        "id": "Fr5f1pRGG1Rc"
      },
      "execution_count": 96,
      "outputs": []
    },
    {
      "cell_type": "code",
      "source": [
        "train_ds=train_ds.map(scale)\n",
        "for image,label in train_ds.take(5):\n",
        "  print(\"***Image is \",image.numpy()[0][0])\n",
        "  print(\"***Label is \",label.numpy())"
      ],
      "metadata": {
        "colab": {
          "base_uri": "https://localhost:8080/"
        },
        "id": "JqR_8-wkJ5k6",
        "outputId": "369efd1d-6a20-4d48-b833-bc158f65798c"
      },
      "execution_count": 97,
      "outputs": [
        {
          "output_type": "stream",
          "name": "stdout",
          "text": [
            "***Image is  [0.9059021  0.9137452  0.85884327]\n",
            "***Label is  b'dog'\n",
            "***Image is  [0.49607843 0.4254902  0.38627452]\n",
            "***Label is  b'cat'\n",
            "***Image is  [0.31072304 0.31072304 0.31072304]\n",
            "***Label is  b'dog'\n",
            "***Image is  [0.01691177 0.0247549  0.01409314]\n",
            "***Label is  b'cat'\n",
            "***Image is  [0.8365982 0.7634508 0.52577  ]\n",
            "***Label is  b'dog'\n"
          ]
        }
      ]
    },
    {
      "cell_type": "code",
      "source": [],
      "metadata": {
        "id": "bxc829jaKjLN"
      },
      "execution_count": null,
      "outputs": []
    }
  ]
}