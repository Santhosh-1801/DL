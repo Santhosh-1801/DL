{
  "nbformat": 4,
  "nbformat_minor": 0,
  "metadata": {
    "colab": {
      "provenance": [],
      "authorship_tag": "ABX9TyNRHllBYHvCOEhC+vX6pb62",
      "include_colab_link": true
    },
    "kernelspec": {
      "name": "python3",
      "display_name": "Python 3"
    },
    "language_info": {
      "name": "python"
    }
  },
  "cells": [
    {
      "cell_type": "markdown",
      "metadata": {
        "id": "view-in-github",
        "colab_type": "text"
      },
      "source": [
        "<a href=\"https://colab.research.google.com/github/Santhosh-1801/DL/blob/main/WordEmbeddingusingKeras.ipynb\" target=\"_parent\"><img src=\"https://colab.research.google.com/assets/colab-badge.svg\" alt=\"Open In Colab\"/></a>"
      ]
    },
    {
      "cell_type": "code",
      "execution_count": null,
      "metadata": {
        "id": "utps85tRwzTo"
      },
      "outputs": [],
      "source": [
        "import numpy as np\n",
        "from tensorflow.keras.preprocessing.text import one_hot\n",
        "from tensorflow.keras.preprocessing.sequence import pad_sequences\n",
        "from tensorflow.keras.models import Sequential\n",
        "from tensorflow.keras.layers import Dense\n",
        "from tensorflow.keras.layers import Flatten\n",
        "from tensorflow.keras.layers import Embedding"
      ]
    },
    {
      "cell_type": "code",
      "source": [
        "reviews=[\n",
        "    'nice food',\n",
        "    'amazing restaurant',\n",
        "    'too good',\n",
        "    'just loved it',\n",
        "    'will go again',\n",
        "    'horrible again',\n",
        "    'never go there',\n",
        "    'poor service',\n",
        "    'poor quality',\n",
        "    'needs improvement'\n",
        "]"
      ],
      "metadata": {
        "id": "h3rV2hh5xYmA"
      },
      "execution_count": null,
      "outputs": []
    },
    {
      "cell_type": "code",
      "source": [
        "sentiments=np.array([1,1,1,1,1,0,0,0,0,0])"
      ],
      "metadata": {
        "id": "h29XUuLn0M50"
      },
      "execution_count": null,
      "outputs": []
    },
    {
      "cell_type": "code",
      "source": [
        "sentiments\n"
      ],
      "metadata": {
        "colab": {
          "base_uri": "https://localhost:8080/"
        },
        "id": "7n9AgfS30drA",
        "outputId": "c927e1c4-ea8e-4d4a-d59a-06ac1d1091bb"
      },
      "execution_count": null,
      "outputs": [
        {
          "output_type": "execute_result",
          "data": {
            "text/plain": [
              "array([1, 1, 1, 1, 1, 0, 0, 0, 0, 0])"
            ]
          },
          "metadata": {},
          "execution_count": 30
        }
      ]
    },
    {
      "cell_type": "code",
      "source": [
        "one_hot('amazing restaurant',50)"
      ],
      "metadata": {
        "colab": {
          "base_uri": "https://localhost:8080/"
        },
        "id": "9DhL4RgN0gFc",
        "outputId": "598f19a9-8b6d-4425-f578-a2b52c75af5a"
      },
      "execution_count": null,
      "outputs": [
        {
          "output_type": "execute_result",
          "data": {
            "text/plain": [
              "[11, 15]"
            ]
          },
          "metadata": {},
          "execution_count": 31
        }
      ]
    },
    {
      "cell_type": "code",
      "source": [
        "vocab_size=30\n",
        "encoded_reviews=[one_hot(review,vocab_size) for review in reviews]"
      ],
      "metadata": {
        "id": "T0X-LfWs019X"
      },
      "execution_count": null,
      "outputs": []
    },
    {
      "cell_type": "code",
      "source": [
        "encoded_reviews"
      ],
      "metadata": {
        "colab": {
          "base_uri": "https://localhost:8080/"
        },
        "id": "9ns-YqxY4-t7",
        "outputId": "0d4c9bb6-5b8f-476b-b63e-b757ae480201"
      },
      "execution_count": null,
      "outputs": [
        {
          "output_type": "execute_result",
          "data": {
            "text/plain": [
              "[[26, 24],\n",
              " [9, 21],\n",
              " [15, 26],\n",
              " [9, 16, 22],\n",
              " [14, 10, 8],\n",
              " [14, 8],\n",
              " [17, 10, 17],\n",
              " [2, 12],\n",
              " [2, 9],\n",
              " [11, 9]]"
            ]
          },
          "metadata": {},
          "execution_count": 33
        }
      ]
    },
    {
      "cell_type": "code",
      "source": [
        "max_length=4\n",
        "padded_reviews=pad_sequences(encoded_reviews,maxlen=max_length,padding='post')\n",
        "print(padded_reviews)"
      ],
      "metadata": {
        "colab": {
          "base_uri": "https://localhost:8080/"
        },
        "id": "jZc9Z2zA4_eR",
        "outputId": "b168b7e8-8388-41b4-d996-2a38988a7719"
      },
      "execution_count": null,
      "outputs": [
        {
          "output_type": "stream",
          "name": "stdout",
          "text": [
            "[[26 24  0  0]\n",
            " [ 9 21  0  0]\n",
            " [15 26  0  0]\n",
            " [ 9 16 22  0]\n",
            " [14 10  8  0]\n",
            " [14  8  0  0]\n",
            " [17 10 17  0]\n",
            " [ 2 12  0  0]\n",
            " [ 2  9  0  0]\n",
            " [11  9  0  0]]\n"
          ]
        }
      ]
    },
    {
      "cell_type": "code",
      "source": [
        "embedded_vector_size=4\n",
        "model=Sequential()\n",
        "model.add(Embedding(vocab_size,embedded_vector_size,input_length=max_length,name='Embedding'))\n",
        "model.add(Flatten())\n",
        "model.add(Dense(1,activation='sigmoid'))"
      ],
      "metadata": {
        "id": "DJx88CY6-K66"
      },
      "execution_count": null,
      "outputs": []
    },
    {
      "cell_type": "code",
      "source": [
        "X=padded_reviews\n",
        "y=sentiments\n",
        "\n"
      ],
      "metadata": {
        "id": "vPGuMtRKLFbb"
      },
      "execution_count": null,
      "outputs": []
    },
    {
      "cell_type": "code",
      "source": [
        "model.compile(optimizer='adam',loss='binary_crossentropy',metrics=['accuracy'])\n",
        "model.summary()"
      ],
      "metadata": {
        "colab": {
          "base_uri": "https://localhost:8080/"
        },
        "id": "s1LZjE1ULkhH",
        "outputId": "70f0a946-ac42-4810-b611-63ada718a23a"
      },
      "execution_count": null,
      "outputs": [
        {
          "output_type": "stream",
          "name": "stdout",
          "text": [
            "Model: \"sequential_3\"\n",
            "_________________________________________________________________\n",
            " Layer (type)                Output Shape              Param #   \n",
            "=================================================================\n",
            " Embedding (Embedding)       (None, 4, 4)              120       \n",
            "                                                                 \n",
            " flatten_3 (Flatten)         (None, 16)                0         \n",
            "                                                                 \n",
            " dense_3 (Dense)             (None, 1)                 17        \n",
            "                                                                 \n",
            "=================================================================\n",
            "Total params: 137\n",
            "Trainable params: 137\n",
            "Non-trainable params: 0\n",
            "_________________________________________________________________\n"
          ]
        }
      ]
    },
    {
      "cell_type": "code",
      "source": [
        "model.fit(X,y,epochs=50,verbose=0)"
      ],
      "metadata": {
        "colab": {
          "base_uri": "https://localhost:8080/"
        },
        "id": "dfYSMAYfLtQs",
        "outputId": "0ed87645-d7b8-43bf-8393-83fa599db1c0"
      },
      "execution_count": null,
      "outputs": [
        {
          "output_type": "execute_result",
          "data": {
            "text/plain": [
              "<keras.callbacks.History at 0x7fac0c2320b0>"
            ]
          },
          "metadata": {},
          "execution_count": 38
        }
      ]
    },
    {
      "cell_type": "code",
      "source": [
        "loss,accuracy=model.evaluate(X,y)"
      ],
      "metadata": {
        "colab": {
          "base_uri": "https://localhost:8080/"
        },
        "id": "Yb9K-xiXNV0c",
        "outputId": "606543a9-cbd3-45c2-94bb-28a517aa3b15"
      },
      "execution_count": null,
      "outputs": [
        {
          "output_type": "stream",
          "name": "stdout",
          "text": [
            "1/1 [==============================] - 0s 147ms/step - loss: 0.6439 - accuracy: 1.0000\n"
          ]
        }
      ]
    },
    {
      "cell_type": "code",
      "source": [
        "model.get_layer('Embedding').get_weights()[0]"
      ],
      "metadata": {
        "colab": {
          "base_uri": "https://localhost:8080/"
        },
        "id": "4S3rATUVNgF4",
        "outputId": "33192310-4287-4717-b309-b999e388030d"
      },
      "execution_count": null,
      "outputs": [
        {
          "output_type": "execute_result",
          "data": {
            "text/plain": [
              "array([[ 0.00052365,  0.03285252,  0.00156982, -0.07652572],\n",
              "       [-0.00648736,  0.03688138,  0.0351712 ,  0.02043065],\n",
              "       [-0.05068492, -0.09056158,  0.10159572,  0.08095158],\n",
              "       [ 0.00287656, -0.04127761, -0.01162688,  0.00494038],\n",
              "       [-0.04912515,  0.00117197, -0.00166229, -0.02932332],\n",
              "       [-0.01709666,  0.04413667,  0.04906556, -0.01675237],\n",
              "       [ 0.00273982,  0.02003506, -0.01513974, -0.01344746],\n",
              "       [-0.04718331, -0.02717379,  0.04059483,  0.04178505],\n",
              "       [ 0.01920743, -0.00753468,  0.08332451,  0.02899408],\n",
              "       [ 0.01500047,  0.00649025, -0.03457655, -0.06851833],\n",
              "       [ 0.00964435, -0.02759644, -0.06909756,  0.00042215],\n",
              "       [-0.03564284, -0.04629998,  0.07643721,  0.05739219],\n",
              "       [-0.00814399,  0.05579358,  0.04721105,  0.04213833],\n",
              "       [ 0.0455021 ,  0.0331446 , -0.00751829, -0.02981674],\n",
              "       [ 0.03868223,  0.00941543,  0.00627031, -0.03374864],\n",
              "       [ 0.06849321,  0.01741912, -0.08634821, -0.0817487 ],\n",
              "       [ 0.04291892, -0.03157905, -0.02511455, -0.06547625],\n",
              "       [-0.07204142,  0.01005444, -0.07434639,  0.04529292],\n",
              "       [-0.02455987, -0.0007037 , -0.01159682, -0.01916033],\n",
              "       [-0.03630408,  0.01819002,  0.03878104,  0.01019229],\n",
              "       [ 0.04603584,  0.02411795, -0.04929439,  0.01961638],\n",
              "       [ 0.08100913, -0.07489925, -0.04906765, -0.07000264],\n",
              "       [ 0.05171581, -0.04714133,  0.02583829,  0.04324665],\n",
              "       [-0.0238265 ,  0.00370847, -0.00888775, -0.02412694],\n",
              "       [ 0.05694242, -0.07075347, -0.0057821 , -0.07638799],\n",
              "       [-0.04411368, -0.02564359, -0.04519102, -0.03787111],\n",
              "       [ 0.06848641,  0.07329721, -0.03213091, -0.09013303],\n",
              "       [ 0.01086055, -0.01314468, -0.04332136,  0.00267552],\n",
              "       [-0.01029227, -0.0125909 ,  0.02545936,  0.0034979 ],\n",
              "       [-0.03950762, -0.04849414,  0.03341554,  0.02861333]],\n",
              "      dtype=float32)"
            ]
          },
          "metadata": {},
          "execution_count": 40
        }
      ]
    },
    {
      "cell_type": "code",
      "source": [],
      "metadata": {
        "id": "ErfzvmLUN-Z7"
      },
      "execution_count": null,
      "outputs": []
    }
  ]
}