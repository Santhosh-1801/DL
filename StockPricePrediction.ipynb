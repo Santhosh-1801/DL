{
  "nbformat": 4,
  "nbformat_minor": 0,
  "metadata": {
    "colab": {
      "provenance": [],
      "authorship_tag": "ABX9TyO6eRO0piPnrYsdhGQv8U5t",
      "include_colab_link": true
    },
    "kernelspec": {
      "name": "python3",
      "display_name": "Python 3"
    },
    "language_info": {
      "name": "python"
    }
  },
  "cells": [
    {
      "cell_type": "markdown",
      "metadata": {
        "id": "view-in-github",
        "colab_type": "text"
      },
      "source": [
        "<a href=\"https://colab.research.google.com/github/Santhosh-1801/DL/blob/main/StockPricePrediction.ipynb\" target=\"_parent\"><img src=\"https://colab.research.google.com/assets/colab-badge.svg\" alt=\"Open In Colab\"/></a>"
      ]
    },
    {
      "cell_type": "markdown",
      "source": [
        "## **STOCK PRICE PREDICTION AND FORECASTING USING STACKED LSTM**\n",
        "**STEPS INVOLVED:**\n",
        "\n",
        "**STEP 1: DATA COLLECTION-SOURUCE(APPLE STOCK DATA-AAPL)**\n",
        "\n",
        "**STEP 2: DATA PREPROCESSING**\n",
        "\n",
        "**STEP 3: TRAINING AND TESTING THE DATA**\n",
        "\n",
        "**STEP 4: CREATE AN STACKED LSTM MODEL**\n",
        "\n",
        "**STEP 5: PREDICT THE TEST DATA AND PLOT THE OUTPUT**\n",
        "\n",
        "**STEP 6: PREDICT THE FUTURE 30 DAYS AND SEE THE PLOTTING**"
      ],
      "metadata": {
        "id": "cpFQNF5Iyf2s"
      }
    },
    {
      "cell_type": "markdown",
      "source": [
        "**Data Collection**"
      ],
      "metadata": {
        "id": "Lkk6vIjPyhE3"
      }
    },
    {
      "cell_type": "code",
      "execution_count": 51,
      "metadata": {
        "id": "dra_SuJQw88-"
      },
      "outputs": [],
      "source": [
        "import pandas_datareader as pdr\n"
      ]
    },
    {
      "cell_type": "code",
      "source": [
        "df=pdr.get_data_tiingo(\"AAPL\",api_key='80e3f14c3d50d53b2cfb4d2c744af5a73cdb0012')"
      ],
      "metadata": {
        "colab": {
          "base_uri": "https://localhost:8080/"
        },
        "id": "IXrB4SEh1yRp",
        "outputId": "595b59eb-ba3a-4b9f-9b8f-07d00204c2f1"
      },
      "execution_count": 52,
      "outputs": [
        {
          "output_type": "stream",
          "name": "stderr",
          "text": [
            "/usr/local/lib/python3.8/dist-packages/pandas_datareader/tiingo.py:234: FutureWarning: In a future version of pandas all arguments of concat except for the argument 'objs' will be keyword-only\n",
            "  return pd.concat(dfs, self._concat_axis)\n"
          ]
        }
      ]
    },
    {
      "cell_type": "code",
      "source": [
        "df"
      ],
      "metadata": {
        "colab": {
          "base_uri": "https://localhost:8080/",
          "height": 455
        },
        "id": "NvlJ_TPj14BP",
        "outputId": "bfedc0e4-3736-4c10-a857-5e9d395fbc03"
      },
      "execution_count": 53,
      "outputs": [
        {
          "output_type": "execute_result",
          "data": {
            "text/plain": [
              "                                   close      high      low     open  \\\n",
              "symbol date                                                            \n",
              "AAPL   2017-12-07 00:00:00+00:00  169.32  170.4400  168.910  169.030   \n",
              "       2017-12-08 00:00:00+00:00  169.37  171.0000  168.820  170.490   \n",
              "       2017-12-11 00:00:00+00:00  172.67  172.8900  168.790  169.200   \n",
              "       2017-12-12 00:00:00+00:00  171.70  172.3900  171.461  172.150   \n",
              "       2017-12-13 00:00:00+00:00  172.27  173.5400  172.000  172.500   \n",
              "...                                  ...       ...      ...      ...   \n",
              "       2022-11-29 00:00:00+00:00  141.17  144.8100  140.355  144.290   \n",
              "       2022-11-30 00:00:00+00:00  148.03  148.7200  140.550  141.395   \n",
              "       2022-12-01 00:00:00+00:00  148.31  149.1300  146.610  148.210   \n",
              "       2022-12-02 00:00:00+00:00  147.81  148.0000  145.650  145.960   \n",
              "       2022-12-05 00:00:00+00:00  146.63  150.9199  145.770  147.770   \n",
              "\n",
              "                                     volume    adjClose     adjHigh  \\\n",
              "symbol date                                                           \n",
              "AAPL   2017-12-07 00:00:00+00:00   24469613   40.249729   40.515968   \n",
              "       2017-12-08 00:00:00+00:00   23096872   40.261615   40.649088   \n",
              "       2017-12-11 00:00:00+00:00   33092051   41.046071   41.098368   \n",
              "       2017-12-12 00:00:00+00:00   18945457   40.815488   40.979511   \n",
              "       2017-12-13 00:00:00+00:00   23142242   40.950985   41.252882   \n",
              "...                                     ...         ...         ...   \n",
              "       2022-11-29 00:00:00+00:00   83763803  141.170000  144.810000   \n",
              "       2022-11-30 00:00:00+00:00  111380880  148.030000  148.720000   \n",
              "       2022-12-01 00:00:00+00:00   71250416  148.310000  149.130000   \n",
              "       2022-12-02 00:00:00+00:00   65447446  147.810000  148.000000   \n",
              "       2022-12-05 00:00:00+00:00   68826442  146.630000  150.919900   \n",
              "\n",
              "                                      adjLow     adjOpen  adjVolume  divCash  \\\n",
              "symbol date                                                                    \n",
              "AAPL   2017-12-07 00:00:00+00:00   40.152266   40.180792   97878452      0.0   \n",
              "       2017-12-08 00:00:00+00:00   40.130872   40.527854   92387488      0.0   \n",
              "       2017-12-11 00:00:00+00:00   40.123740   40.221203  132368204      0.0   \n",
              "       2017-12-12 00:00:00+00:00   40.758674   40.922459   75781828      0.0   \n",
              "       2017-12-13 00:00:00+00:00   40.886802   41.005659   92568968      0.0   \n",
              "...                                      ...         ...        ...      ...   \n",
              "       2022-11-29 00:00:00+00:00  140.355000  144.290000   83763803      0.0   \n",
              "       2022-11-30 00:00:00+00:00  140.550000  141.395000  111380880      0.0   \n",
              "       2022-12-01 00:00:00+00:00  146.610000  148.210000   71250416      0.0   \n",
              "       2022-12-02 00:00:00+00:00  145.650000  145.960000   65447446      0.0   \n",
              "       2022-12-05 00:00:00+00:00  145.770000  147.770000   68826442      0.0   \n",
              "\n",
              "                                  splitFactor  \n",
              "symbol date                                    \n",
              "AAPL   2017-12-07 00:00:00+00:00          1.0  \n",
              "       2017-12-08 00:00:00+00:00          1.0  \n",
              "       2017-12-11 00:00:00+00:00          1.0  \n",
              "       2017-12-12 00:00:00+00:00          1.0  \n",
              "       2017-12-13 00:00:00+00:00          1.0  \n",
              "...                                       ...  \n",
              "       2022-11-29 00:00:00+00:00          1.0  \n",
              "       2022-11-30 00:00:00+00:00          1.0  \n",
              "       2022-12-01 00:00:00+00:00          1.0  \n",
              "       2022-12-02 00:00:00+00:00          1.0  \n",
              "       2022-12-05 00:00:00+00:00          1.0  \n",
              "\n",
              "[1257 rows x 12 columns]"
            ],
            "text/html": [
              "\n",
              "  <div id=\"df-0b529897-350f-4cea-b70d-ded7a0b6ee2b\">\n",
              "    <div class=\"colab-df-container\">\n",
              "      <div>\n",
              "<style scoped>\n",
              "    .dataframe tbody tr th:only-of-type {\n",
              "        vertical-align: middle;\n",
              "    }\n",
              "\n",
              "    .dataframe tbody tr th {\n",
              "        vertical-align: top;\n",
              "    }\n",
              "\n",
              "    .dataframe thead th {\n",
              "        text-align: right;\n",
              "    }\n",
              "</style>\n",
              "<table border=\"1\" class=\"dataframe\">\n",
              "  <thead>\n",
              "    <tr style=\"text-align: right;\">\n",
              "      <th></th>\n",
              "      <th></th>\n",
              "      <th>close</th>\n",
              "      <th>high</th>\n",
              "      <th>low</th>\n",
              "      <th>open</th>\n",
              "      <th>volume</th>\n",
              "      <th>adjClose</th>\n",
              "      <th>adjHigh</th>\n",
              "      <th>adjLow</th>\n",
              "      <th>adjOpen</th>\n",
              "      <th>adjVolume</th>\n",
              "      <th>divCash</th>\n",
              "      <th>splitFactor</th>\n",
              "    </tr>\n",
              "    <tr>\n",
              "      <th>symbol</th>\n",
              "      <th>date</th>\n",
              "      <th></th>\n",
              "      <th></th>\n",
              "      <th></th>\n",
              "      <th></th>\n",
              "      <th></th>\n",
              "      <th></th>\n",
              "      <th></th>\n",
              "      <th></th>\n",
              "      <th></th>\n",
              "      <th></th>\n",
              "      <th></th>\n",
              "      <th></th>\n",
              "    </tr>\n",
              "  </thead>\n",
              "  <tbody>\n",
              "    <tr>\n",
              "      <th rowspan=\"11\" valign=\"top\">AAPL</th>\n",
              "      <th>2017-12-07 00:00:00+00:00</th>\n",
              "      <td>169.32</td>\n",
              "      <td>170.4400</td>\n",
              "      <td>168.910</td>\n",
              "      <td>169.030</td>\n",
              "      <td>24469613</td>\n",
              "      <td>40.249729</td>\n",
              "      <td>40.515968</td>\n",
              "      <td>40.152266</td>\n",
              "      <td>40.180792</td>\n",
              "      <td>97878452</td>\n",
              "      <td>0.0</td>\n",
              "      <td>1.0</td>\n",
              "    </tr>\n",
              "    <tr>\n",
              "      <th>2017-12-08 00:00:00+00:00</th>\n",
              "      <td>169.37</td>\n",
              "      <td>171.0000</td>\n",
              "      <td>168.820</td>\n",
              "      <td>170.490</td>\n",
              "      <td>23096872</td>\n",
              "      <td>40.261615</td>\n",
              "      <td>40.649088</td>\n",
              "      <td>40.130872</td>\n",
              "      <td>40.527854</td>\n",
              "      <td>92387488</td>\n",
              "      <td>0.0</td>\n",
              "      <td>1.0</td>\n",
              "    </tr>\n",
              "    <tr>\n",
              "      <th>2017-12-11 00:00:00+00:00</th>\n",
              "      <td>172.67</td>\n",
              "      <td>172.8900</td>\n",
              "      <td>168.790</td>\n",
              "      <td>169.200</td>\n",
              "      <td>33092051</td>\n",
              "      <td>41.046071</td>\n",
              "      <td>41.098368</td>\n",
              "      <td>40.123740</td>\n",
              "      <td>40.221203</td>\n",
              "      <td>132368204</td>\n",
              "      <td>0.0</td>\n",
              "      <td>1.0</td>\n",
              "    </tr>\n",
              "    <tr>\n",
              "      <th>2017-12-12 00:00:00+00:00</th>\n",
              "      <td>171.70</td>\n",
              "      <td>172.3900</td>\n",
              "      <td>171.461</td>\n",
              "      <td>172.150</td>\n",
              "      <td>18945457</td>\n",
              "      <td>40.815488</td>\n",
              "      <td>40.979511</td>\n",
              "      <td>40.758674</td>\n",
              "      <td>40.922459</td>\n",
              "      <td>75781828</td>\n",
              "      <td>0.0</td>\n",
              "      <td>1.0</td>\n",
              "    </tr>\n",
              "    <tr>\n",
              "      <th>2017-12-13 00:00:00+00:00</th>\n",
              "      <td>172.27</td>\n",
              "      <td>173.5400</td>\n",
              "      <td>172.000</td>\n",
              "      <td>172.500</td>\n",
              "      <td>23142242</td>\n",
              "      <td>40.950985</td>\n",
              "      <td>41.252882</td>\n",
              "      <td>40.886802</td>\n",
              "      <td>41.005659</td>\n",
              "      <td>92568968</td>\n",
              "      <td>0.0</td>\n",
              "      <td>1.0</td>\n",
              "    </tr>\n",
              "    <tr>\n",
              "      <th>...</th>\n",
              "      <td>...</td>\n",
              "      <td>...</td>\n",
              "      <td>...</td>\n",
              "      <td>...</td>\n",
              "      <td>...</td>\n",
              "      <td>...</td>\n",
              "      <td>...</td>\n",
              "      <td>...</td>\n",
              "      <td>...</td>\n",
              "      <td>...</td>\n",
              "      <td>...</td>\n",
              "      <td>...</td>\n",
              "    </tr>\n",
              "    <tr>\n",
              "      <th>2022-11-29 00:00:00+00:00</th>\n",
              "      <td>141.17</td>\n",
              "      <td>144.8100</td>\n",
              "      <td>140.355</td>\n",
              "      <td>144.290</td>\n",
              "      <td>83763803</td>\n",
              "      <td>141.170000</td>\n",
              "      <td>144.810000</td>\n",
              "      <td>140.355000</td>\n",
              "      <td>144.290000</td>\n",
              "      <td>83763803</td>\n",
              "      <td>0.0</td>\n",
              "      <td>1.0</td>\n",
              "    </tr>\n",
              "    <tr>\n",
              "      <th>2022-11-30 00:00:00+00:00</th>\n",
              "      <td>148.03</td>\n",
              "      <td>148.7200</td>\n",
              "      <td>140.550</td>\n",
              "      <td>141.395</td>\n",
              "      <td>111380880</td>\n",
              "      <td>148.030000</td>\n",
              "      <td>148.720000</td>\n",
              "      <td>140.550000</td>\n",
              "      <td>141.395000</td>\n",
              "      <td>111380880</td>\n",
              "      <td>0.0</td>\n",
              "      <td>1.0</td>\n",
              "    </tr>\n",
              "    <tr>\n",
              "      <th>2022-12-01 00:00:00+00:00</th>\n",
              "      <td>148.31</td>\n",
              "      <td>149.1300</td>\n",
              "      <td>146.610</td>\n",
              "      <td>148.210</td>\n",
              "      <td>71250416</td>\n",
              "      <td>148.310000</td>\n",
              "      <td>149.130000</td>\n",
              "      <td>146.610000</td>\n",
              "      <td>148.210000</td>\n",
              "      <td>71250416</td>\n",
              "      <td>0.0</td>\n",
              "      <td>1.0</td>\n",
              "    </tr>\n",
              "    <tr>\n",
              "      <th>2022-12-02 00:00:00+00:00</th>\n",
              "      <td>147.81</td>\n",
              "      <td>148.0000</td>\n",
              "      <td>145.650</td>\n",
              "      <td>145.960</td>\n",
              "      <td>65447446</td>\n",
              "      <td>147.810000</td>\n",
              "      <td>148.000000</td>\n",
              "      <td>145.650000</td>\n",
              "      <td>145.960000</td>\n",
              "      <td>65447446</td>\n",
              "      <td>0.0</td>\n",
              "      <td>1.0</td>\n",
              "    </tr>\n",
              "    <tr>\n",
              "      <th>2022-12-05 00:00:00+00:00</th>\n",
              "      <td>146.63</td>\n",
              "      <td>150.9199</td>\n",
              "      <td>145.770</td>\n",
              "      <td>147.770</td>\n",
              "      <td>68826442</td>\n",
              "      <td>146.630000</td>\n",
              "      <td>150.919900</td>\n",
              "      <td>145.770000</td>\n",
              "      <td>147.770000</td>\n",
              "      <td>68826442</td>\n",
              "      <td>0.0</td>\n",
              "      <td>1.0</td>\n",
              "    </tr>\n",
              "  </tbody>\n",
              "</table>\n",
              "<p>1257 rows × 12 columns</p>\n",
              "</div>\n",
              "      <button class=\"colab-df-convert\" onclick=\"convertToInteractive('df-0b529897-350f-4cea-b70d-ded7a0b6ee2b')\"\n",
              "              title=\"Convert this dataframe to an interactive table.\"\n",
              "              style=\"display:none;\">\n",
              "        \n",
              "  <svg xmlns=\"http://www.w3.org/2000/svg\" height=\"24px\"viewBox=\"0 0 24 24\"\n",
              "       width=\"24px\">\n",
              "    <path d=\"M0 0h24v24H0V0z\" fill=\"none\"/>\n",
              "    <path d=\"M18.56 5.44l.94 2.06.94-2.06 2.06-.94-2.06-.94-.94-2.06-.94 2.06-2.06.94zm-11 1L8.5 8.5l.94-2.06 2.06-.94-2.06-.94L8.5 2.5l-.94 2.06-2.06.94zm10 10l.94 2.06.94-2.06 2.06-.94-2.06-.94-.94-2.06-.94 2.06-2.06.94z\"/><path d=\"M17.41 7.96l-1.37-1.37c-.4-.4-.92-.59-1.43-.59-.52 0-1.04.2-1.43.59L10.3 9.45l-7.72 7.72c-.78.78-.78 2.05 0 2.83L4 21.41c.39.39.9.59 1.41.59.51 0 1.02-.2 1.41-.59l7.78-7.78 2.81-2.81c.8-.78.8-2.07 0-2.86zM5.41 20L4 18.59l7.72-7.72 1.47 1.35L5.41 20z\"/>\n",
              "  </svg>\n",
              "      </button>\n",
              "      \n",
              "  <style>\n",
              "    .colab-df-container {\n",
              "      display:flex;\n",
              "      flex-wrap:wrap;\n",
              "      gap: 12px;\n",
              "    }\n",
              "\n",
              "    .colab-df-convert {\n",
              "      background-color: #E8F0FE;\n",
              "      border: none;\n",
              "      border-radius: 50%;\n",
              "      cursor: pointer;\n",
              "      display: none;\n",
              "      fill: #1967D2;\n",
              "      height: 32px;\n",
              "      padding: 0 0 0 0;\n",
              "      width: 32px;\n",
              "    }\n",
              "\n",
              "    .colab-df-convert:hover {\n",
              "      background-color: #E2EBFA;\n",
              "      box-shadow: 0px 1px 2px rgba(60, 64, 67, 0.3), 0px 1px 3px 1px rgba(60, 64, 67, 0.15);\n",
              "      fill: #174EA6;\n",
              "    }\n",
              "\n",
              "    [theme=dark] .colab-df-convert {\n",
              "      background-color: #3B4455;\n",
              "      fill: #D2E3FC;\n",
              "    }\n",
              "\n",
              "    [theme=dark] .colab-df-convert:hover {\n",
              "      background-color: #434B5C;\n",
              "      box-shadow: 0px 1px 3px 1px rgba(0, 0, 0, 0.15);\n",
              "      filter: drop-shadow(0px 1px 2px rgba(0, 0, 0, 0.3));\n",
              "      fill: #FFFFFF;\n",
              "    }\n",
              "  </style>\n",
              "\n",
              "      <script>\n",
              "        const buttonEl =\n",
              "          document.querySelector('#df-0b529897-350f-4cea-b70d-ded7a0b6ee2b button.colab-df-convert');\n",
              "        buttonEl.style.display =\n",
              "          google.colab.kernel.accessAllowed ? 'block' : 'none';\n",
              "\n",
              "        async function convertToInteractive(key) {\n",
              "          const element = document.querySelector('#df-0b529897-350f-4cea-b70d-ded7a0b6ee2b');\n",
              "          const dataTable =\n",
              "            await google.colab.kernel.invokeFunction('convertToInteractive',\n",
              "                                                     [key], {});\n",
              "          if (!dataTable) return;\n",
              "\n",
              "          const docLinkHtml = 'Like what you see? Visit the ' +\n",
              "            '<a target=\"_blank\" href=https://colab.research.google.com/notebooks/data_table.ipynb>data table notebook</a>'\n",
              "            + ' to learn more about interactive tables.';\n",
              "          element.innerHTML = '';\n",
              "          dataTable['output_type'] = 'display_data';\n",
              "          await google.colab.output.renderOutput(dataTable, element);\n",
              "          const docLink = document.createElement('div');\n",
              "          docLink.innerHTML = docLinkHtml;\n",
              "          element.appendChild(docLink);\n",
              "        }\n",
              "      </script>\n",
              "    </div>\n",
              "  </div>\n",
              "  "
            ]
          },
          "metadata": {},
          "execution_count": 53
        }
      ]
    },
    {
      "cell_type": "code",
      "source": [
        "df.head()"
      ],
      "metadata": {
        "colab": {
          "base_uri": "https://localhost:8080/",
          "height": 237
        },
        "id": "q1MwFo0n2GUI",
        "outputId": "412c19bc-6837-4f78-a4d4-586de78e938c"
      },
      "execution_count": 54,
      "outputs": [
        {
          "output_type": "execute_result",
          "data": {
            "text/plain": [
              "                                   close    high      low    open    volume  \\\n",
              "symbol date                                                                   \n",
              "AAPL   2017-12-07 00:00:00+00:00  169.32  170.44  168.910  169.03  24469613   \n",
              "       2017-12-08 00:00:00+00:00  169.37  171.00  168.820  170.49  23096872   \n",
              "       2017-12-11 00:00:00+00:00  172.67  172.89  168.790  169.20  33092051   \n",
              "       2017-12-12 00:00:00+00:00  171.70  172.39  171.461  172.15  18945457   \n",
              "       2017-12-13 00:00:00+00:00  172.27  173.54  172.000  172.50  23142242   \n",
              "\n",
              "                                   adjClose    adjHigh     adjLow    adjOpen  \\\n",
              "symbol date                                                                    \n",
              "AAPL   2017-12-07 00:00:00+00:00  40.249729  40.515968  40.152266  40.180792   \n",
              "       2017-12-08 00:00:00+00:00  40.261615  40.649088  40.130872  40.527854   \n",
              "       2017-12-11 00:00:00+00:00  41.046071  41.098368  40.123740  40.221203   \n",
              "       2017-12-12 00:00:00+00:00  40.815488  40.979511  40.758674  40.922459   \n",
              "       2017-12-13 00:00:00+00:00  40.950985  41.252882  40.886802  41.005659   \n",
              "\n",
              "                                  adjVolume  divCash  splitFactor  \n",
              "symbol date                                                        \n",
              "AAPL   2017-12-07 00:00:00+00:00   97878452      0.0          1.0  \n",
              "       2017-12-08 00:00:00+00:00   92387488      0.0          1.0  \n",
              "       2017-12-11 00:00:00+00:00  132368204      0.0          1.0  \n",
              "       2017-12-12 00:00:00+00:00   75781828      0.0          1.0  \n",
              "       2017-12-13 00:00:00+00:00   92568968      0.0          1.0  "
            ],
            "text/html": [
              "\n",
              "  <div id=\"df-c04b3571-facf-4634-a5e8-1e9e67b7769c\">\n",
              "    <div class=\"colab-df-container\">\n",
              "      <div>\n",
              "<style scoped>\n",
              "    .dataframe tbody tr th:only-of-type {\n",
              "        vertical-align: middle;\n",
              "    }\n",
              "\n",
              "    .dataframe tbody tr th {\n",
              "        vertical-align: top;\n",
              "    }\n",
              "\n",
              "    .dataframe thead th {\n",
              "        text-align: right;\n",
              "    }\n",
              "</style>\n",
              "<table border=\"1\" class=\"dataframe\">\n",
              "  <thead>\n",
              "    <tr style=\"text-align: right;\">\n",
              "      <th></th>\n",
              "      <th></th>\n",
              "      <th>close</th>\n",
              "      <th>high</th>\n",
              "      <th>low</th>\n",
              "      <th>open</th>\n",
              "      <th>volume</th>\n",
              "      <th>adjClose</th>\n",
              "      <th>adjHigh</th>\n",
              "      <th>adjLow</th>\n",
              "      <th>adjOpen</th>\n",
              "      <th>adjVolume</th>\n",
              "      <th>divCash</th>\n",
              "      <th>splitFactor</th>\n",
              "    </tr>\n",
              "    <tr>\n",
              "      <th>symbol</th>\n",
              "      <th>date</th>\n",
              "      <th></th>\n",
              "      <th></th>\n",
              "      <th></th>\n",
              "      <th></th>\n",
              "      <th></th>\n",
              "      <th></th>\n",
              "      <th></th>\n",
              "      <th></th>\n",
              "      <th></th>\n",
              "      <th></th>\n",
              "      <th></th>\n",
              "      <th></th>\n",
              "    </tr>\n",
              "  </thead>\n",
              "  <tbody>\n",
              "    <tr>\n",
              "      <th rowspan=\"5\" valign=\"top\">AAPL</th>\n",
              "      <th>2017-12-07 00:00:00+00:00</th>\n",
              "      <td>169.32</td>\n",
              "      <td>170.44</td>\n",
              "      <td>168.910</td>\n",
              "      <td>169.03</td>\n",
              "      <td>24469613</td>\n",
              "      <td>40.249729</td>\n",
              "      <td>40.515968</td>\n",
              "      <td>40.152266</td>\n",
              "      <td>40.180792</td>\n",
              "      <td>97878452</td>\n",
              "      <td>0.0</td>\n",
              "      <td>1.0</td>\n",
              "    </tr>\n",
              "    <tr>\n",
              "      <th>2017-12-08 00:00:00+00:00</th>\n",
              "      <td>169.37</td>\n",
              "      <td>171.00</td>\n",
              "      <td>168.820</td>\n",
              "      <td>170.49</td>\n",
              "      <td>23096872</td>\n",
              "      <td>40.261615</td>\n",
              "      <td>40.649088</td>\n",
              "      <td>40.130872</td>\n",
              "      <td>40.527854</td>\n",
              "      <td>92387488</td>\n",
              "      <td>0.0</td>\n",
              "      <td>1.0</td>\n",
              "    </tr>\n",
              "    <tr>\n",
              "      <th>2017-12-11 00:00:00+00:00</th>\n",
              "      <td>172.67</td>\n",
              "      <td>172.89</td>\n",
              "      <td>168.790</td>\n",
              "      <td>169.20</td>\n",
              "      <td>33092051</td>\n",
              "      <td>41.046071</td>\n",
              "      <td>41.098368</td>\n",
              "      <td>40.123740</td>\n",
              "      <td>40.221203</td>\n",
              "      <td>132368204</td>\n",
              "      <td>0.0</td>\n",
              "      <td>1.0</td>\n",
              "    </tr>\n",
              "    <tr>\n",
              "      <th>2017-12-12 00:00:00+00:00</th>\n",
              "      <td>171.70</td>\n",
              "      <td>172.39</td>\n",
              "      <td>171.461</td>\n",
              "      <td>172.15</td>\n",
              "      <td>18945457</td>\n",
              "      <td>40.815488</td>\n",
              "      <td>40.979511</td>\n",
              "      <td>40.758674</td>\n",
              "      <td>40.922459</td>\n",
              "      <td>75781828</td>\n",
              "      <td>0.0</td>\n",
              "      <td>1.0</td>\n",
              "    </tr>\n",
              "    <tr>\n",
              "      <th>2017-12-13 00:00:00+00:00</th>\n",
              "      <td>172.27</td>\n",
              "      <td>173.54</td>\n",
              "      <td>172.000</td>\n",
              "      <td>172.50</td>\n",
              "      <td>23142242</td>\n",
              "      <td>40.950985</td>\n",
              "      <td>41.252882</td>\n",
              "      <td>40.886802</td>\n",
              "      <td>41.005659</td>\n",
              "      <td>92568968</td>\n",
              "      <td>0.0</td>\n",
              "      <td>1.0</td>\n",
              "    </tr>\n",
              "  </tbody>\n",
              "</table>\n",
              "</div>\n",
              "      <button class=\"colab-df-convert\" onclick=\"convertToInteractive('df-c04b3571-facf-4634-a5e8-1e9e67b7769c')\"\n",
              "              title=\"Convert this dataframe to an interactive table.\"\n",
              "              style=\"display:none;\">\n",
              "        \n",
              "  <svg xmlns=\"http://www.w3.org/2000/svg\" height=\"24px\"viewBox=\"0 0 24 24\"\n",
              "       width=\"24px\">\n",
              "    <path d=\"M0 0h24v24H0V0z\" fill=\"none\"/>\n",
              "    <path d=\"M18.56 5.44l.94 2.06.94-2.06 2.06-.94-2.06-.94-.94-2.06-.94 2.06-2.06.94zm-11 1L8.5 8.5l.94-2.06 2.06-.94-2.06-.94L8.5 2.5l-.94 2.06-2.06.94zm10 10l.94 2.06.94-2.06 2.06-.94-2.06-.94-.94-2.06-.94 2.06-2.06.94z\"/><path d=\"M17.41 7.96l-1.37-1.37c-.4-.4-.92-.59-1.43-.59-.52 0-1.04.2-1.43.59L10.3 9.45l-7.72 7.72c-.78.78-.78 2.05 0 2.83L4 21.41c.39.39.9.59 1.41.59.51 0 1.02-.2 1.41-.59l7.78-7.78 2.81-2.81c.8-.78.8-2.07 0-2.86zM5.41 20L4 18.59l7.72-7.72 1.47 1.35L5.41 20z\"/>\n",
              "  </svg>\n",
              "      </button>\n",
              "      \n",
              "  <style>\n",
              "    .colab-df-container {\n",
              "      display:flex;\n",
              "      flex-wrap:wrap;\n",
              "      gap: 12px;\n",
              "    }\n",
              "\n",
              "    .colab-df-convert {\n",
              "      background-color: #E8F0FE;\n",
              "      border: none;\n",
              "      border-radius: 50%;\n",
              "      cursor: pointer;\n",
              "      display: none;\n",
              "      fill: #1967D2;\n",
              "      height: 32px;\n",
              "      padding: 0 0 0 0;\n",
              "      width: 32px;\n",
              "    }\n",
              "\n",
              "    .colab-df-convert:hover {\n",
              "      background-color: #E2EBFA;\n",
              "      box-shadow: 0px 1px 2px rgba(60, 64, 67, 0.3), 0px 1px 3px 1px rgba(60, 64, 67, 0.15);\n",
              "      fill: #174EA6;\n",
              "    }\n",
              "\n",
              "    [theme=dark] .colab-df-convert {\n",
              "      background-color: #3B4455;\n",
              "      fill: #D2E3FC;\n",
              "    }\n",
              "\n",
              "    [theme=dark] .colab-df-convert:hover {\n",
              "      background-color: #434B5C;\n",
              "      box-shadow: 0px 1px 3px 1px rgba(0, 0, 0, 0.15);\n",
              "      filter: drop-shadow(0px 1px 2px rgba(0, 0, 0, 0.3));\n",
              "      fill: #FFFFFF;\n",
              "    }\n",
              "  </style>\n",
              "\n",
              "      <script>\n",
              "        const buttonEl =\n",
              "          document.querySelector('#df-c04b3571-facf-4634-a5e8-1e9e67b7769c button.colab-df-convert');\n",
              "        buttonEl.style.display =\n",
              "          google.colab.kernel.accessAllowed ? 'block' : 'none';\n",
              "\n",
              "        async function convertToInteractive(key) {\n",
              "          const element = document.querySelector('#df-c04b3571-facf-4634-a5e8-1e9e67b7769c');\n",
              "          const dataTable =\n",
              "            await google.colab.kernel.invokeFunction('convertToInteractive',\n",
              "                                                     [key], {});\n",
              "          if (!dataTable) return;\n",
              "\n",
              "          const docLinkHtml = 'Like what you see? Visit the ' +\n",
              "            '<a target=\"_blank\" href=https://colab.research.google.com/notebooks/data_table.ipynb>data table notebook</a>'\n",
              "            + ' to learn more about interactive tables.';\n",
              "          element.innerHTML = '';\n",
              "          dataTable['output_type'] = 'display_data';\n",
              "          await google.colab.output.renderOutput(dataTable, element);\n",
              "          const docLink = document.createElement('div');\n",
              "          docLink.innerHTML = docLinkHtml;\n",
              "          element.appendChild(docLink);\n",
              "        }\n",
              "      </script>\n",
              "    </div>\n",
              "  </div>\n",
              "  "
            ]
          },
          "metadata": {},
          "execution_count": 54
        }
      ]
    },
    {
      "cell_type": "code",
      "source": [
        "df.to_csv('AAPL.csv')"
      ],
      "metadata": {
        "id": "5jE6TGu32H8F"
      },
      "execution_count": 55,
      "outputs": []
    },
    {
      "cell_type": "code",
      "source": [
        "import pandas as pd"
      ],
      "metadata": {
        "id": "trhNNAqm2Znq"
      },
      "execution_count": 56,
      "outputs": []
    },
    {
      "cell_type": "code",
      "source": [
        "df=pd.read_csv('/content/AAPL.csv')"
      ],
      "metadata": {
        "id": "VaD-S1Nc2d2e"
      },
      "execution_count": 57,
      "outputs": []
    },
    {
      "cell_type": "code",
      "source": [
        "df.head()"
      ],
      "metadata": {
        "colab": {
          "base_uri": "https://localhost:8080/",
          "height": 206
        },
        "id": "3XVf5Wm82h8k",
        "outputId": "a5245325-1bbf-4555-a8f1-197db2e4fabe"
      },
      "execution_count": 58,
      "outputs": [
        {
          "output_type": "execute_result",
          "data": {
            "text/plain": [
              "  symbol                       date   close    high      low    open  \\\n",
              "0   AAPL  2017-12-07 00:00:00+00:00  169.32  170.44  168.910  169.03   \n",
              "1   AAPL  2017-12-08 00:00:00+00:00  169.37  171.00  168.820  170.49   \n",
              "2   AAPL  2017-12-11 00:00:00+00:00  172.67  172.89  168.790  169.20   \n",
              "3   AAPL  2017-12-12 00:00:00+00:00  171.70  172.39  171.461  172.15   \n",
              "4   AAPL  2017-12-13 00:00:00+00:00  172.27  173.54  172.000  172.50   \n",
              "\n",
              "     volume   adjClose    adjHigh     adjLow    adjOpen  adjVolume  divCash  \\\n",
              "0  24469613  40.249729  40.515968  40.152266  40.180792   97878452      0.0   \n",
              "1  23096872  40.261615  40.649088  40.130872  40.527854   92387488      0.0   \n",
              "2  33092051  41.046071  41.098368  40.123740  40.221203  132368204      0.0   \n",
              "3  18945457  40.815488  40.979511  40.758674  40.922459   75781828      0.0   \n",
              "4  23142242  40.950985  41.252882  40.886802  41.005659   92568968      0.0   \n",
              "\n",
              "   splitFactor  \n",
              "0          1.0  \n",
              "1          1.0  \n",
              "2          1.0  \n",
              "3          1.0  \n",
              "4          1.0  "
            ],
            "text/html": [
              "\n",
              "  <div id=\"df-12a4af4e-0750-46bc-a693-32dafd62c2d1\">\n",
              "    <div class=\"colab-df-container\">\n",
              "      <div>\n",
              "<style scoped>\n",
              "    .dataframe tbody tr th:only-of-type {\n",
              "        vertical-align: middle;\n",
              "    }\n",
              "\n",
              "    .dataframe tbody tr th {\n",
              "        vertical-align: top;\n",
              "    }\n",
              "\n",
              "    .dataframe thead th {\n",
              "        text-align: right;\n",
              "    }\n",
              "</style>\n",
              "<table border=\"1\" class=\"dataframe\">\n",
              "  <thead>\n",
              "    <tr style=\"text-align: right;\">\n",
              "      <th></th>\n",
              "      <th>symbol</th>\n",
              "      <th>date</th>\n",
              "      <th>close</th>\n",
              "      <th>high</th>\n",
              "      <th>low</th>\n",
              "      <th>open</th>\n",
              "      <th>volume</th>\n",
              "      <th>adjClose</th>\n",
              "      <th>adjHigh</th>\n",
              "      <th>adjLow</th>\n",
              "      <th>adjOpen</th>\n",
              "      <th>adjVolume</th>\n",
              "      <th>divCash</th>\n",
              "      <th>splitFactor</th>\n",
              "    </tr>\n",
              "  </thead>\n",
              "  <tbody>\n",
              "    <tr>\n",
              "      <th>0</th>\n",
              "      <td>AAPL</td>\n",
              "      <td>2017-12-07 00:00:00+00:00</td>\n",
              "      <td>169.32</td>\n",
              "      <td>170.44</td>\n",
              "      <td>168.910</td>\n",
              "      <td>169.03</td>\n",
              "      <td>24469613</td>\n",
              "      <td>40.249729</td>\n",
              "      <td>40.515968</td>\n",
              "      <td>40.152266</td>\n",
              "      <td>40.180792</td>\n",
              "      <td>97878452</td>\n",
              "      <td>0.0</td>\n",
              "      <td>1.0</td>\n",
              "    </tr>\n",
              "    <tr>\n",
              "      <th>1</th>\n",
              "      <td>AAPL</td>\n",
              "      <td>2017-12-08 00:00:00+00:00</td>\n",
              "      <td>169.37</td>\n",
              "      <td>171.00</td>\n",
              "      <td>168.820</td>\n",
              "      <td>170.49</td>\n",
              "      <td>23096872</td>\n",
              "      <td>40.261615</td>\n",
              "      <td>40.649088</td>\n",
              "      <td>40.130872</td>\n",
              "      <td>40.527854</td>\n",
              "      <td>92387488</td>\n",
              "      <td>0.0</td>\n",
              "      <td>1.0</td>\n",
              "    </tr>\n",
              "    <tr>\n",
              "      <th>2</th>\n",
              "      <td>AAPL</td>\n",
              "      <td>2017-12-11 00:00:00+00:00</td>\n",
              "      <td>172.67</td>\n",
              "      <td>172.89</td>\n",
              "      <td>168.790</td>\n",
              "      <td>169.20</td>\n",
              "      <td>33092051</td>\n",
              "      <td>41.046071</td>\n",
              "      <td>41.098368</td>\n",
              "      <td>40.123740</td>\n",
              "      <td>40.221203</td>\n",
              "      <td>132368204</td>\n",
              "      <td>0.0</td>\n",
              "      <td>1.0</td>\n",
              "    </tr>\n",
              "    <tr>\n",
              "      <th>3</th>\n",
              "      <td>AAPL</td>\n",
              "      <td>2017-12-12 00:00:00+00:00</td>\n",
              "      <td>171.70</td>\n",
              "      <td>172.39</td>\n",
              "      <td>171.461</td>\n",
              "      <td>172.15</td>\n",
              "      <td>18945457</td>\n",
              "      <td>40.815488</td>\n",
              "      <td>40.979511</td>\n",
              "      <td>40.758674</td>\n",
              "      <td>40.922459</td>\n",
              "      <td>75781828</td>\n",
              "      <td>0.0</td>\n",
              "      <td>1.0</td>\n",
              "    </tr>\n",
              "    <tr>\n",
              "      <th>4</th>\n",
              "      <td>AAPL</td>\n",
              "      <td>2017-12-13 00:00:00+00:00</td>\n",
              "      <td>172.27</td>\n",
              "      <td>173.54</td>\n",
              "      <td>172.000</td>\n",
              "      <td>172.50</td>\n",
              "      <td>23142242</td>\n",
              "      <td>40.950985</td>\n",
              "      <td>41.252882</td>\n",
              "      <td>40.886802</td>\n",
              "      <td>41.005659</td>\n",
              "      <td>92568968</td>\n",
              "      <td>0.0</td>\n",
              "      <td>1.0</td>\n",
              "    </tr>\n",
              "  </tbody>\n",
              "</table>\n",
              "</div>\n",
              "      <button class=\"colab-df-convert\" onclick=\"convertToInteractive('df-12a4af4e-0750-46bc-a693-32dafd62c2d1')\"\n",
              "              title=\"Convert this dataframe to an interactive table.\"\n",
              "              style=\"display:none;\">\n",
              "        \n",
              "  <svg xmlns=\"http://www.w3.org/2000/svg\" height=\"24px\"viewBox=\"0 0 24 24\"\n",
              "       width=\"24px\">\n",
              "    <path d=\"M0 0h24v24H0V0z\" fill=\"none\"/>\n",
              "    <path d=\"M18.56 5.44l.94 2.06.94-2.06 2.06-.94-2.06-.94-.94-2.06-.94 2.06-2.06.94zm-11 1L8.5 8.5l.94-2.06 2.06-.94-2.06-.94L8.5 2.5l-.94 2.06-2.06.94zm10 10l.94 2.06.94-2.06 2.06-.94-2.06-.94-.94-2.06-.94 2.06-2.06.94z\"/><path d=\"M17.41 7.96l-1.37-1.37c-.4-.4-.92-.59-1.43-.59-.52 0-1.04.2-1.43.59L10.3 9.45l-7.72 7.72c-.78.78-.78 2.05 0 2.83L4 21.41c.39.39.9.59 1.41.59.51 0 1.02-.2 1.41-.59l7.78-7.78 2.81-2.81c.8-.78.8-2.07 0-2.86zM5.41 20L4 18.59l7.72-7.72 1.47 1.35L5.41 20z\"/>\n",
              "  </svg>\n",
              "      </button>\n",
              "      \n",
              "  <style>\n",
              "    .colab-df-container {\n",
              "      display:flex;\n",
              "      flex-wrap:wrap;\n",
              "      gap: 12px;\n",
              "    }\n",
              "\n",
              "    .colab-df-convert {\n",
              "      background-color: #E8F0FE;\n",
              "      border: none;\n",
              "      border-radius: 50%;\n",
              "      cursor: pointer;\n",
              "      display: none;\n",
              "      fill: #1967D2;\n",
              "      height: 32px;\n",
              "      padding: 0 0 0 0;\n",
              "      width: 32px;\n",
              "    }\n",
              "\n",
              "    .colab-df-convert:hover {\n",
              "      background-color: #E2EBFA;\n",
              "      box-shadow: 0px 1px 2px rgba(60, 64, 67, 0.3), 0px 1px 3px 1px rgba(60, 64, 67, 0.15);\n",
              "      fill: #174EA6;\n",
              "    }\n",
              "\n",
              "    [theme=dark] .colab-df-convert {\n",
              "      background-color: #3B4455;\n",
              "      fill: #D2E3FC;\n",
              "    }\n",
              "\n",
              "    [theme=dark] .colab-df-convert:hover {\n",
              "      background-color: #434B5C;\n",
              "      box-shadow: 0px 1px 3px 1px rgba(0, 0, 0, 0.15);\n",
              "      filter: drop-shadow(0px 1px 2px rgba(0, 0, 0, 0.3));\n",
              "      fill: #FFFFFF;\n",
              "    }\n",
              "  </style>\n",
              "\n",
              "      <script>\n",
              "        const buttonEl =\n",
              "          document.querySelector('#df-12a4af4e-0750-46bc-a693-32dafd62c2d1 button.colab-df-convert');\n",
              "        buttonEl.style.display =\n",
              "          google.colab.kernel.accessAllowed ? 'block' : 'none';\n",
              "\n",
              "        async function convertToInteractive(key) {\n",
              "          const element = document.querySelector('#df-12a4af4e-0750-46bc-a693-32dafd62c2d1');\n",
              "          const dataTable =\n",
              "            await google.colab.kernel.invokeFunction('convertToInteractive',\n",
              "                                                     [key], {});\n",
              "          if (!dataTable) return;\n",
              "\n",
              "          const docLinkHtml = 'Like what you see? Visit the ' +\n",
              "            '<a target=\"_blank\" href=https://colab.research.google.com/notebooks/data_table.ipynb>data table notebook</a>'\n",
              "            + ' to learn more about interactive tables.';\n",
              "          element.innerHTML = '';\n",
              "          dataTable['output_type'] = 'display_data';\n",
              "          await google.colab.output.renderOutput(dataTable, element);\n",
              "          const docLink = document.createElement('div');\n",
              "          docLink.innerHTML = docLinkHtml;\n",
              "          element.appendChild(docLink);\n",
              "        }\n",
              "      </script>\n",
              "    </div>\n",
              "  </div>\n",
              "  "
            ]
          },
          "metadata": {},
          "execution_count": 58
        }
      ]
    },
    {
      "cell_type": "code",
      "source": [
        "df1=df.reset_index()['close']"
      ],
      "metadata": {
        "id": "XwlO1YvT2jju"
      },
      "execution_count": 59,
      "outputs": []
    },
    {
      "cell_type": "code",
      "source": [
        "df1.head()"
      ],
      "metadata": {
        "colab": {
          "base_uri": "https://localhost:8080/"
        },
        "id": "qyS-36E_qJcM",
        "outputId": "15911655-3de1-4d82-a1bb-459b3ab4eee5"
      },
      "execution_count": 60,
      "outputs": [
        {
          "output_type": "execute_result",
          "data": {
            "text/plain": [
              "0    169.32\n",
              "1    169.37\n",
              "2    172.67\n",
              "3    171.70\n",
              "4    172.27\n",
              "Name: close, dtype: float64"
            ]
          },
          "metadata": {},
          "execution_count": 60
        }
      ]
    },
    {
      "cell_type": "code",
      "source": [
        "#Finding number of data\n",
        "df1.shape"
      ],
      "metadata": {
        "colab": {
          "base_uri": "https://localhost:8080/"
        },
        "id": "u16h4OoYqKYh",
        "outputId": "08bf2873-aeaa-4827-9f26-7ef1e03c351d"
      },
      "execution_count": 61,
      "outputs": [
        {
          "output_type": "execute_result",
          "data": {
            "text/plain": [
              "(1257,)"
            ]
          },
          "metadata": {},
          "execution_count": 61
        }
      ]
    },
    {
      "cell_type": "code",
      "source": [
        "import matplotlib.pyplot as plt \n",
        "plt.plot(df1)"
      ],
      "metadata": {
        "colab": {
          "base_uri": "https://localhost:8080/",
          "height": 282
        },
        "id": "1yWK8lsUqUdl",
        "outputId": "4db46010-10ed-4d1a-c4e5-d2ea50b890bb"
      },
      "execution_count": 62,
      "outputs": [
        {
          "output_type": "execute_result",
          "data": {
            "text/plain": [
              "[<matplotlib.lines.Line2D at 0x7f635df5bbb0>]"
            ]
          },
          "metadata": {},
          "execution_count": 62
        },
        {
          "output_type": "display_data",
          "data": {
            "text/plain": [
              "<Figure size 432x288 with 1 Axes>"
            ],
            "image/png": "[encoded data removed]"
          },
          "metadata": {
            "needs_background": "light"
          }
        }
      ]
    },
    {
      "cell_type": "code",
      "source": [
        "import numpy as np\n",
        "from sklearn.preprocessing import MinMaxScaler \n",
        "scaler=MinMaxScaler(feature_range=(0,1))\n",
        "df1=scaler.fit_transform(np.array(df1).reshape(-1,1))"
      ],
      "metadata": {
        "id": "QEim2Aq6qtgD"
      },
      "execution_count": 63,
      "outputs": []
    },
    {
      "cell_type": "code",
      "source": [
        "print(df1)"
      ],
      "metadata": {
        "colab": {
          "base_uri": "https://localhost:8080/"
        },
        "id": "nCll7z53xVTq",
        "outputId": "f5fcafae-573a-42ae-a73c-ce0927020cf6"
      },
      "execution_count": 64,
      "outputs": [
        {
          "output_type": "stream",
          "name": "stdout",
          "text": [
            "[[0.15649343]\n",
            " [0.15661866]\n",
            " [0.16488416]\n",
            " ...\n",
            " [0.10386976]\n",
            " [0.10261741]\n",
            " [0.09966187]]\n"
          ]
        }
      ]
    },
    {
      "cell_type": "code",
      "source": [
        "#Splitting dataset into train and test split \n",
        "training_size=int(len(df1)*0.65)\n",
        "test_size=len(df1)-training_size\n",
        "train_data,test_data=df1[0:training_size,:],df1[training_size:len(df1),:1]"
      ],
      "metadata": {
        "id": "Lbp3sTI4Bhr8"
      },
      "execution_count": 65,
      "outputs": []
    },
    {
      "cell_type": "code",
      "source": [
        "import numpy\n",
        "# convert an array of values into a dataset matrix\n",
        "def create_dataset(dataset, time_step=1):\n",
        "\tdataX, dataY = [], []\n",
        "\tfor i in range(len(dataset)-time_step-1):\n",
        "\t\ta = dataset[i:(i+time_step), 0]   ###i=0, 0,1,2,3-----99   100 \n",
        "\t\tdataX.append(a)\n",
        "\t\tdataY.append(dataset[i + time_step, 0])\n",
        "\treturn numpy.array(dataX), numpy.array(dataY)\n"
      ],
      "metadata": {
        "id": "z_CU9FU3B_vU"
      },
      "execution_count": 83,
      "outputs": []
    },
    {
      "cell_type": "code",
      "source": [
        "time_step=100\n",
        "X_train,y_train=create_dataset(train_data,time_step)\n",
        "X_test,y_test=create_dataset(test_data,time_step)"
      ],
      "metadata": {
        "id": "NqWt_SkKKECj"
      },
      "execution_count": 84,
      "outputs": []
    },
    {
      "cell_type": "code",
      "source": [
        "X_train.shape"
      ],
      "metadata": {
        "colab": {
          "base_uri": "https://localhost:8080/"
        },
        "id": "LrB1XeIDLSBj",
        "outputId": "617b8cd1-ea07-43c4-d5c5-07f31f141916"
      },
      "execution_count": 85,
      "outputs": [
        {
          "output_type": "execute_result",
          "data": {
            "text/plain": [
              "(716, 100)"
            ]
          },
          "metadata": {},
          "execution_count": 85
        }
      ]
    },
    {
      "cell_type": "code",
      "source": [
        "y_train.shape"
      ],
      "metadata": {
        "colab": {
          "base_uri": "https://localhost:8080/"
        },
        "id": "9CiD4APlfMXY",
        "outputId": "76ae9169-7e5c-4012-bfeb-0ceeae45f758"
      },
      "execution_count": 86,
      "outputs": [
        {
          "output_type": "execute_result",
          "data": {
            "text/plain": [
              "(716,)"
            ]
          },
          "metadata": {},
          "execution_count": 86
        }
      ]
    },
    {
      "cell_type": "code",
      "source": [
        "X_test.shape"
      ],
      "metadata": {
        "colab": {
          "base_uri": "https://localhost:8080/"
        },
        "id": "f2rO0-VFLaMz",
        "outputId": "d0cd3b87-3322-49b5-8b4f-e097a1a4eeb7"
      },
      "execution_count": 87,
      "outputs": [
        {
          "output_type": "execute_result",
          "data": {
            "text/plain": [
              "(339, 100)"
            ]
          },
          "metadata": {},
          "execution_count": 87
        }
      ]
    },
    {
      "cell_type": "code",
      "source": [
        "#reshape input to be [samples,time steps,features] which is required for LSTM \n",
        "X_train=X_train.reshape(X_train.shape[0],X_train.shape[1],1)\n",
        "X_test=X_test.reshape(X_test.shape[0],X_test.shape[1],1)"
      ],
      "metadata": {
        "id": "3g6KdWXgLcYt"
      },
      "execution_count": 88,
      "outputs": []
    },
    {
      "cell_type": "code",
      "source": [
        "#Create the Stacked LSTM model \n",
        "from tensorflow.keras.models import Sequential\n",
        "from tensorflow.keras.layers import Dense \n",
        "from tensorflow.keras.layers import LSTM"
      ],
      "metadata": {
        "id": "ppTzODVfNRZX"
      },
      "execution_count": 89,
      "outputs": []
    },
    {
      "cell_type": "code",
      "source": [
        "model=Sequential()\n",
        "model.add(LSTM(50,return_sequences=True,input_shape=(100,1)))\n",
        "model.add(LSTM(50,return_sequences=True))\n",
        "model.add(LSTM(50))\n",
        "model.add(Dense(1))\n",
        "model.compile(loss='mean_squared_error',optimizer='adam')"
      ],
      "metadata": {
        "id": "liRA6RVWN2eP"
      },
      "execution_count": 90,
      "outputs": []
    },
    {
      "cell_type": "code",
      "source": [
        "model.summary()"
      ],
      "metadata": {
        "colab": {
          "base_uri": "https://localhost:8080/"
        },
        "id": "KsbmHt-oRNaU",
        "outputId": "5f5a0807-70e8-4186-f0fb-659d79e6b787"
      },
      "execution_count": 91,
      "outputs": [
        {
          "output_type": "stream",
          "name": "stdout",
          "text": [
            "Model: \"sequential_2\"\n",
            "_________________________________________________________________\n",
            " Layer (type)                Output Shape              Param #   \n",
            "=================================================================\n",
            " lstm_6 (LSTM)               (None, 100, 50)           10400     \n",
            "                                                                 \n",
            " lstm_7 (LSTM)               (None, 100, 50)           20200     \n",
            "                                                                 \n",
            " lstm_8 (LSTM)               (None, 50)                20200     \n",
            "                                                                 \n",
            " dense_2 (Dense)             (None, 1)                 51        \n",
            "                                                                 \n",
            "=================================================================\n",
            "Total params: 50,851\n",
            "Trainable params: 50,851\n",
            "Non-trainable params: 0\n",
            "_________________________________________________________________\n"
          ]
        }
      ]
    },
    {
      "cell_type": "code",
      "source": [
        "model.fit(X_train,y_train,validation_data=(X_test,y_test),epochs=50,batch_size=64,verbose=1)"
      ],
      "metadata": {
        "colab": {
          "base_uri": "https://localhost:8080/"
        },
        "id": "mItw75nxRd9Z",
        "outputId": "a8f50bb0-0dd4-4fe5-a103-cad619b9b010"
      },
      "execution_count": 92,
      "outputs": [
        {
          "output_type": "stream",
          "name": "stdout",
          "text": [
            "Epoch 1/50\n",
            "12/12 [==============================] - 55s 370ms/step - loss: 0.0401 - val_loss: 7.3753e-04\n",
            "Epoch 2/50\n",
            "12/12 [==============================] - 2s 174ms/step - loss: 0.0143 - val_loss: 0.0041\n",
            "Epoch 3/50\n",
            "12/12 [==============================] - 2s 165ms/step - loss: 0.0109 - val_loss: 4.2113e-04\n",
            "Epoch 4/50\n",
            "12/12 [==============================] - 2s 165ms/step - loss: 0.0094 - val_loss: 4.7343e-04\n",
            "Epoch 5/50\n",
            "12/12 [==============================] - 2s 167ms/step - loss: 0.0086 - val_loss: 0.0011\n",
            "Epoch 6/50\n",
            "12/12 [==============================] - 2s 169ms/step - loss: 0.0084 - val_loss: 5.2241e-04\n",
            "Epoch 7/50\n",
            "12/12 [==============================] - 2s 166ms/step - loss: 0.0071 - val_loss: 7.7856e-04\n",
            "Epoch 8/50\n",
            "12/12 [==============================] - 2s 166ms/step - loss: 0.0067 - val_loss: 9.6955e-04\n",
            "Epoch 9/50\n",
            "12/12 [==============================] - 2s 163ms/step - loss: 0.0061 - val_loss: 3.3631e-04\n",
            "Epoch 10/50\n",
            "12/12 [==============================] - 2s 167ms/step - loss: 0.0053 - val_loss: 3.2427e-04\n",
            "Epoch 11/50\n",
            "12/12 [==============================] - 2s 167ms/step - loss: 0.0049 - val_loss: 3.6233e-04\n",
            "Epoch 12/50\n",
            "12/12 [==============================] - 2s 174ms/step - loss: 0.0049 - val_loss: 3.9741e-04\n",
            "Epoch 13/50\n",
            "12/12 [==============================] - 2s 176ms/step - loss: 0.0046 - val_loss: 2.8404e-04\n",
            "Epoch 14/50\n",
            "12/12 [==============================] - 2s 169ms/step - loss: 0.0039 - val_loss: 4.0083e-04\n",
            "Epoch 15/50\n",
            "12/12 [==============================] - 2s 167ms/step - loss: 0.0039 - val_loss: 0.0012\n",
            "Epoch 16/50\n",
            "12/12 [==============================] - 2s 171ms/step - loss: 0.0040 - val_loss: 2.5023e-04\n",
            "Epoch 17/50\n",
            "12/12 [==============================] - 2s 174ms/step - loss: 0.0035 - val_loss: 5.7282e-04\n",
            "Epoch 18/50\n",
            "12/12 [==============================] - 2s 171ms/step - loss: 0.0031 - val_loss: 2.9158e-04\n",
            "Epoch 19/50\n",
            "12/12 [==============================] - 2s 167ms/step - loss: 0.0028 - val_loss: 2.7782e-04\n",
            "Epoch 20/50\n",
            "12/12 [==============================] - 2s 170ms/step - loss: 0.0023 - val_loss: 2.5643e-04\n",
            "Epoch 21/50\n",
            "12/12 [==============================] - 2s 174ms/step - loss: 0.0026 - val_loss: 2.4735e-04\n",
            "Epoch 22/50\n",
            "12/12 [==============================] - 2s 176ms/step - loss: 0.0021 - val_loss: 2.5022e-04\n",
            "Epoch 23/50\n",
            "12/12 [==============================] - 2s 176ms/step - loss: 0.0022 - val_loss: 2.7523e-04\n",
            "Epoch 24/50\n",
            "12/12 [==============================] - 2s 163ms/step - loss: 0.0026 - val_loss: 5.0004e-04\n",
            "Epoch 25/50\n",
            "12/12 [==============================] - 2s 167ms/step - loss: 0.0031 - val_loss: 5.7267e-04\n",
            "Epoch 26/50\n",
            "12/12 [==============================] - 2s 166ms/step - loss: 0.0032 - val_loss: 7.4638e-04\n",
            "Epoch 27/50\n",
            "12/12 [==============================] - 2s 163ms/step - loss: 0.0023 - val_loss: 2.9322e-04\n",
            "Epoch 28/50\n",
            "12/12 [==============================] - 2s 166ms/step - loss: 0.0030 - val_loss: 5.8045e-04\n",
            "Epoch 29/50\n",
            "12/12 [==============================] - 2s 169ms/step - loss: 0.0043 - val_loss: 5.0540e-04\n",
            "Epoch 30/50\n",
            "12/12 [==============================] - 2s 165ms/step - loss: 0.0033 - val_loss: 3.5707e-04\n",
            "Epoch 31/50\n",
            "12/12 [==============================] - 2s 163ms/step - loss: 0.0024 - val_loss: 3.3973e-04\n",
            "Epoch 32/50\n",
            "12/12 [==============================] - 2s 170ms/step - loss: 0.0062 - val_loss: 0.0025\n",
            "Epoch 33/50\n",
            "12/12 [==============================] - 2s 165ms/step - loss: 0.0044 - val_loss: 8.9953e-04\n",
            "Epoch 34/50\n",
            "12/12 [==============================] - 2s 160ms/step - loss: 0.0031 - val_loss: 5.1494e-04\n",
            "Epoch 35/50\n",
            "12/12 [==============================] - 2s 163ms/step - loss: 0.0039 - val_loss: 5.3068e-04\n",
            "Epoch 36/50\n",
            "12/12 [==============================] - 2s 166ms/step - loss: 0.0029 - val_loss: 4.2923e-04\n",
            "Epoch 37/50\n",
            "12/12 [==============================] - 2s 168ms/step - loss: 0.0034 - val_loss: 2.3467e-04\n",
            "Epoch 38/50\n",
            "12/12 [==============================] - 2s 167ms/step - loss: 0.0032 - val_loss: 4.2859e-04\n",
            "Epoch 39/50\n",
            "12/12 [==============================] - 2s 170ms/step - loss: 0.0026 - val_loss: 2.9732e-04\n",
            "Epoch 40/50\n",
            "12/12 [==============================] - 2s 167ms/step - loss: 0.0023 - val_loss: 2.5264e-04\n",
            "Epoch 41/50\n",
            "12/12 [==============================] - 2s 167ms/step - loss: 0.0023 - val_loss: 2.6123e-04\n",
            "Epoch 42/50\n",
            "12/12 [==============================] - 2s 166ms/step - loss: 0.0019 - val_loss: 2.6313e-04\n",
            "Epoch 43/50\n",
            "12/12 [==============================] - 2s 169ms/step - loss: 0.0022 - val_loss: 2.4743e-04\n",
            "Epoch 44/50\n",
            "12/12 [==============================] - 2s 164ms/step - loss: 0.0021 - val_loss: 3.4115e-04\n",
            "Epoch 45/50\n",
            "12/12 [==============================] - 2s 165ms/step - loss: 0.0021 - val_loss: 2.6424e-04\n",
            "Epoch 46/50\n",
            "12/12 [==============================] - 2s 167ms/step - loss: 0.0019 - val_loss: 2.8422e-04\n",
            "Epoch 47/50\n",
            "12/12 [==============================] - 2s 164ms/step - loss: 0.0020 - val_loss: 2.9770e-04\n",
            "Epoch 48/50\n",
            "12/12 [==============================] - 2s 166ms/step - loss: 0.0016 - val_loss: 2.7353e-04\n",
            "Epoch 49/50\n",
            "12/12 [==============================] - 2s 164ms/step - loss: 0.0021 - val_loss: 2.6981e-04\n",
            "Epoch 50/50\n",
            "12/12 [==============================] - 2s 165ms/step - loss: 0.0023 - val_loss: 3.5533e-04\n"
          ]
        },
        {
          "output_type": "execute_result",
          "data": {
            "text/plain": [
              "<keras.callbacks.History at 0x7f6357910820>"
            ]
          },
          "metadata": {},
          "execution_count": 92
        }
      ]
    },
    {
      "cell_type": "code",
      "source": [
        "train_predict=model.predict(X_train)\n",
        "test_predict=model.predict(X_test)"
      ],
      "metadata": {
        "colab": {
          "base_uri": "https://localhost:8080/"
        },
        "id": "cdu_p4LAR8Dr",
        "outputId": "5a2f0b6f-8f09-4188-8937-4857edd895a7"
      },
      "execution_count": 93,
      "outputs": [
        {
          "output_type": "stream",
          "name": "stdout",
          "text": [
            "23/23 [==============================] - 2s 32ms/step\n",
            "11/11 [==============================] - 0s 31ms/step\n"
          ]
        }
      ]
    },
    {
      "cell_type": "code",
      "source": [
        "#Transform to Original form of Data\n",
        "train_predict=scaler.inverse_transform(train_predict)\n",
        "test_predict=scaler.inverse_transform(test_predict)"
      ],
      "metadata": {
        "id": "uyC4_pOIWMv7"
      },
      "execution_count": 94,
      "outputs": []
    },
    {
      "cell_type": "code",
      "source": [
        "import math\n",
        "from sklearn.metrics import mean_squared_error\n",
        "math.sqrt(mean_squared_error(y_test,test_predict))\n"
      ],
      "metadata": {
        "colab": {
          "base_uri": "https://localhost:8080/"
        },
        "id": "z2fWUxKYWeee",
        "outputId": "a3ab7b0d-fd5d-4237-fe0d-0ccd14050de1"
      },
      "execution_count": 95,
      "outputs": [
        {
          "output_type": "execute_result",
          "data": {
            "text/plain": [
              "151.39737176366071"
            ]
          },
          "metadata": {},
          "execution_count": 95
        }
      ]
    },
    {
      "cell_type": "code",
      "source": [
        "#Test Data RMSE\n",
        "math.sqrt(mean_squared_error(y_train,train_predict))"
      ],
      "metadata": {
        "colab": {
          "base_uri": "https://localhost:8080/"
        },
        "id": "HOWv4HZ7ZEX3",
        "outputId": "dc47f770-ece1-42e9-a267-72225bd3185a"
      },
      "execution_count": 96,
      "outputs": [
        {
          "output_type": "execute_result",
          "data": {
            "text/plain": [
              "223.6743879976322"
            ]
          },
          "metadata": {},
          "execution_count": 96
        }
      ]
    },
    {
      "cell_type": "code",
      "source": [
        "#Plotting\n",
        "#shift train predictions for plotting\n",
        "look_back=100\n",
        "trainPredictPlot = numpy.empty_like(df1)\n",
        "trainPredictPlot[:, :] = np.nan\n",
        "trainPredictPlot[look_back:len(train_predict)+look_back, :] = train_predict\n",
        "# shift test predictions for plotting\n",
        "testPredictPlot = numpy.empty_like(df1)\n",
        "testPredictPlot[:, :] = numpy.nan\n",
        "testPredictPlot[len(train_predict)+(look_back*2)+1:len(df1)-1, :] = test_predict\n",
        "# plot baseline and predictions\n",
        "plt.plot(scaler.inverse_transform(df1))\n",
        "plt.plot(trainPredictPlot)\n",
        "plt.plot(testPredictPlot)\n",
        "plt.show()\n"
      ],
      "metadata": {
        "colab": {
          "base_uri": "https://localhost:8080/",
          "height": 265
        },
        "id": "h3I28KuMa-ll",
        "outputId": "0037822b-d6dd-400b-8f24-fc43676adcc5"
      },
      "execution_count": 97,
      "outputs": [
        {
          "output_type": "display_data",
          "data": {
            "text/plain": [
              "<Figure size 432x288 with 1 Axes>"
            ],
            "image/png": "[encoded data removed]"
          },
          "metadata": {
            "needs_background": "light"
          }
        }
      ]
    },
    {
      "cell_type": "code",
      "source": [
        "x_input=test_data[341:].reshape(1,-1)\n",
        "x_input.shape"
      ],
      "metadata": {
        "colab": {
          "base_uri": "https://localhost:8080/"
        },
        "id": "78Rf14GOa_3U",
        "outputId": "6286b29e-0dcc-4f2b-b958-f7f2a177be9f"
      },
      "execution_count": 98,
      "outputs": [
        {
          "output_type": "execute_result",
          "data": {
            "text/plain": [
              "(1, 99)"
            ]
          },
          "metadata": {},
          "execution_count": 98
        }
      ]
    },
    {
      "cell_type": "code",
      "source": [
        "temp_input=list(x_input)"
      ],
      "metadata": {
        "id": "_vIrDKn0oHpN"
      },
      "execution_count": 99,
      "outputs": []
    },
    {
      "cell_type": "code",
      "source": [
        "temp_input"
      ],
      "metadata": {
        "colab": {
          "base_uri": "https://localhost:8080/"
        },
        "id": "3qtwhYmpoTYj",
        "outputId": "d1f80121-27a2-4ed8-d521-003ca367c3f7"
      },
      "execution_count": 100,
      "outputs": [
        {
          "output_type": "execute_result",
          "data": {
            "text/plain": [
              "[array([0.10076393, 0.11060739, 0.11571697, 0.12150282, 0.1183469 ,\n",
              "        0.11549155, 0.11211021, 0.12510958, 0.12651221, 0.13943644,\n",
              "        0.13693175, 0.1331747 , 0.14850344, 0.14770194, 0.14654978,\n",
              "        0.14534753, 0.14547276, 0.15629305, 0.15441453, 0.16345648,\n",
              "        0.1661866 , 0.16578585, 0.16959299, 0.16859111, 0.16200376,\n",
              "        0.15211021, 0.15125861, 0.15201002, 0.15827176, 0.14221666,\n",
              "        0.13660614, 0.13041954, 0.1261866 , 0.12804008, 0.12265498,\n",
              "        0.11944897, 0.12303068, 0.11927364, 0.1265623 , 0.14174076,\n",
              "        0.11772073, 0.12140263, 0.11403882, 0.10985598, 0.11932373,\n",
              "        0.1253851 , 0.11742016, 0.11496556, 0.10917971, 0.11003131,\n",
              "        0.11251096, 0.10770194, 0.08926738, 0.07854728, 0.08919224,\n",
              "        0.09833438, 0.09908579, 0.09665623, 0.08328115, 0.0841077 ,\n",
              "        0.08050094, 0.07889793, 0.09054477, 0.07899812, 0.08909205,\n",
              "        0.09244834, 0.09272386, 0.09154665, 0.10126487, 0.10672511,\n",
              "        0.11396368, 0.10647464, 0.09507827, 0.12247965, 0.11646838,\n",
              "        0.10973075, 0.09565435, 0.08025047, 0.07899812, 0.08035066,\n",
              "        0.08180338, 0.07020664, 0.10026299, 0.10735128, 0.10379461,\n",
              "        0.10820288, 0.10507201, 0.10990607, 0.11133375, 0.10311835,\n",
              "        0.10855354, 0.11078272, 0.10336882, 0.09362555, 0.08598622,\n",
              "        0.10316844, 0.10386976, 0.10261741, 0.09966187])]"
            ]
          },
          "metadata": {},
          "execution_count": 100
        }
      ]
    },
    {
      "cell_type": "code",
      "source": [
        "temp_input[0]"
      ],
      "metadata": {
        "colab": {
          "base_uri": "https://localhost:8080/"
        },
        "id": "ZQU3jvXCoUQN",
        "outputId": "348b2974-0b51-4dde-9e95-656da0796e76"
      },
      "execution_count": 101,
      "outputs": [
        {
          "output_type": "execute_result",
          "data": {
            "text/plain": [
              "array([0.10076393, 0.11060739, 0.11571697, 0.12150282, 0.1183469 ,\n",
              "       0.11549155, 0.11211021, 0.12510958, 0.12651221, 0.13943644,\n",
              "       0.13693175, 0.1331747 , 0.14850344, 0.14770194, 0.14654978,\n",
              "       0.14534753, 0.14547276, 0.15629305, 0.15441453, 0.16345648,\n",
              "       0.1661866 , 0.16578585, 0.16959299, 0.16859111, 0.16200376,\n",
              "       0.15211021, 0.15125861, 0.15201002, 0.15827176, 0.14221666,\n",
              "       0.13660614, 0.13041954, 0.1261866 , 0.12804008, 0.12265498,\n",
              "       0.11944897, 0.12303068, 0.11927364, 0.1265623 , 0.14174076,\n",
              "       0.11772073, 0.12140263, 0.11403882, 0.10985598, 0.11932373,\n",
              "       0.1253851 , 0.11742016, 0.11496556, 0.10917971, 0.11003131,\n",
              "       0.11251096, 0.10770194, 0.08926738, 0.07854728, 0.08919224,\n",
              "       0.09833438, 0.09908579, 0.09665623, 0.08328115, 0.0841077 ,\n",
              "       0.08050094, 0.07889793, 0.09054477, 0.07899812, 0.08909205,\n",
              "       0.09244834, 0.09272386, 0.09154665, 0.10126487, 0.10672511,\n",
              "       0.11396368, 0.10647464, 0.09507827, 0.12247965, 0.11646838,\n",
              "       0.10973075, 0.09565435, 0.08025047, 0.07899812, 0.08035066,\n",
              "       0.08180338, 0.07020664, 0.10026299, 0.10735128, 0.10379461,\n",
              "       0.10820288, 0.10507201, 0.10990607, 0.11133375, 0.10311835,\n",
              "       0.10855354, 0.11078272, 0.10336882, 0.09362555, 0.08598622,\n",
              "       0.10316844, 0.10386976, 0.10261741, 0.09966187])"
            ]
          },
          "metadata": {},
          "execution_count": 101
        }
      ]
    },
    {
      "cell_type": "code",
      "source": [
        "temp_input=list(x_input)\n",
        "temp_input=temp_input[0].tolist()"
      ],
      "metadata": {
        "id": "rwPB3xhmoZe3"
      },
      "execution_count": 102,
      "outputs": []
    },
    {
      "cell_type": "code",
      "source": [
        "len(temp_input)"
      ],
      "metadata": {
        "colab": {
          "base_uri": "https://localhost:8080/"
        },
        "id": "PwW46xbLorO4",
        "outputId": "aa0166f7-fd57-482e-f147-9585c787b0bc"
      },
      "execution_count": 104,
      "outputs": [
        {
          "output_type": "execute_result",
          "data": {
            "text/plain": [
              "99"
            ]
          },
          "metadata": {},
          "execution_count": 104
        }
      ]
    },
    {
      "cell_type": "code",
      "source": [
        "from numpy import array\n",
        "\n",
        "lst_output=[]\n",
        "n_steps=100\n",
        "i=0\n",
        "while(i<30):\n",
        "    \n",
        "    if(len(temp_input)>100):\n",
        "        #print(temp_input)\n",
        "        x_input=np.array(temp_input[1:])\n",
        "        print(\"{} day input {}\".format(i,x_input))\n",
        "        x_input=x_input.reshape(1,-1)\n",
        "        x_input = x_input.reshape((1, n_steps, 1))\n",
        "        #print(x_input)\n",
        "        yhat = model.predict(x_input, verbose=0)\n",
        "        print(\"{} day output {}\".format(i,yhat))\n",
        "        temp_input.extend(yhat[0].tolist())\n",
        "        temp_input=temp_input[1:]\n",
        "        #print(temp_input)\n",
        "        lst_output.extend(yhat.tolist())\n",
        "        i=i+1\n",
        "    else:\n",
        "        x_input = x_input.reshape((0,99,1))\n",
        "        yhat = model.predict(x_input, verbose=0)\n",
        "        print(yhat[0])\n",
        "        temp_input.extend(yhat[0].tolist())\n",
        "        print(len(temp_input))\n",
        "        lst_output.extend(yhat.tolist())\n",
        "        i=i+1\n",
        "    \n",
        "\n",
        "print(lst_output)\n"
      ],
      "metadata": {
        "colab": {
          "base_uri": "https://localhost:8080/"
        },
        "id": "PJytJ7zcotEA",
        "outputId": "71e31f06-b194-4ec0-ceb1-c907a007c3a4"
      },
      "execution_count": 108,
      "outputs": [
        {
          "output_type": "stream",
          "name": "stdout",
          "text": [
            "0 day input [0.14221666 0.13660614 0.13041954 0.1261866  0.12804008 0.12265498\n",
            " 0.11944897 0.12303068 0.11927364 0.1265623  0.14174076 0.11772073\n",
            " 0.12140263 0.11403882 0.10985598 0.11932373 0.1253851  0.11742016\n",
            " 0.11496556 0.10917971 0.11003131 0.11251096 0.10770194 0.08926738\n",
            " 0.07854728 0.08919224 0.09833438 0.09908579 0.09665623 0.08328115\n",
            " 0.0841077  0.08050094 0.07889793 0.09054477 0.07899812 0.08909205\n",
            " 0.09244834 0.09272386 0.09154665 0.10126487 0.10672511 0.11396368\n",
            " 0.10647464 0.09507827 0.12247965 0.11646838 0.10973075 0.09565435\n",
            " 0.08025047 0.07899812 0.08035066 0.08180338 0.07020664 0.10026299\n",
            " 0.10735128 0.10379461 0.10820288 0.10507201 0.10990607 0.11133375\n",
            " 0.10311835 0.10855354 0.11078272 0.10336882 0.09362555 0.08598622\n",
            " 0.10316844 0.10386976 0.10261741 0.09966187 0.0932681  0.0932681\n",
            " 0.09170499 0.09064289 0.08943857 0.0881374  0.08677946 0.08539635\n",
            " 0.08401126 0.08264028 0.0812941  0.0799794  0.07870008 0.07745801\n",
            " 0.07625376 0.07508697 0.07395673 0.07286172 0.07180036 0.07077099\n",
            " 0.06977186 0.06880127 0.06785756 0.06693917 0.06604464 0.06517261\n",
            " 0.06432188 0.0634914  0.06268017 0.06188736]\n",
            "0 day output [[0.06111223]]\n",
            "1 day input [0.13660614 0.13041954 0.1261866  0.12804008 0.12265498 0.11944897\n",
            " 0.12303068 0.11927364 0.1265623  0.14174076 0.11772073 0.12140263\n",
            " 0.11403882 0.10985598 0.11932373 0.1253851  0.11742016 0.11496556\n",
            " 0.10917971 0.11003131 0.11251096 0.10770194 0.08926738 0.07854728\n",
            " 0.08919224 0.09833438 0.09908579 0.09665623 0.08328115 0.0841077\n",
            " 0.08050094 0.07889793 0.09054477 0.07899812 0.08909205 0.09244834\n",
            " 0.09272386 0.09154665 0.10126487 0.10672511 0.11396368 0.10647464\n",
            " 0.09507827 0.12247965 0.11646838 0.10973075 0.09565435 0.08025047\n",
            " 0.07899812 0.08035066 0.08180338 0.07020664 0.10026299 0.10735128\n",
            " 0.10379461 0.10820288 0.10507201 0.10990607 0.11133375 0.10311835\n",
            " 0.10855354 0.11078272 0.10336882 0.09362555 0.08598622 0.10316844\n",
            " 0.10386976 0.10261741 0.09966187 0.0932681  0.0932681  0.09170499\n",
            " 0.09064289 0.08943857 0.0881374  0.08677946 0.08539635 0.08401126\n",
            " 0.08264028 0.0812941  0.0799794  0.07870008 0.07745801 0.07625376\n",
            " 0.07508697 0.07395673 0.07286172 0.07180036 0.07077099 0.06977186\n",
            " 0.06880127 0.06785756 0.06693917 0.06604464 0.06517261 0.06432188\n",
            " 0.0634914  0.06268017 0.06188736 0.06111223]\n",
            "1 day output [[0.06035424]]\n",
            "2 day input [0.13041954 0.1261866  0.12804008 0.12265498 0.11944897 0.12303068\n",
            " 0.11927364 0.1265623  0.14174076 0.11772073 0.12140263 0.11403882\n",
            " 0.10985598 0.11932373 0.1253851  0.11742016 0.11496556 0.10917971\n",
            " 0.11003131 0.11251096 0.10770194 0.08926738 0.07854728 0.08919224\n",
            " 0.09833438 0.09908579 0.09665623 0.08328115 0.0841077  0.08050094\n",
            " 0.07889793 0.09054477 0.07899812 0.08909205 0.09244834 0.09272386\n",
            " 0.09154665 0.10126487 0.10672511 0.11396368 0.10647464 0.09507827\n",
            " 0.12247965 0.11646838 0.10973075 0.09565435 0.08025047 0.07899812\n",
            " 0.08035066 0.08180338 0.07020664 0.10026299 0.10735128 0.10379461\n",
            " 0.10820288 0.10507201 0.10990607 0.11133375 0.10311835 0.10855354\n",
            " 0.11078272 0.10336882 0.09362555 0.08598622 0.10316844 0.10386976\n",
            " 0.10261741 0.09966187 0.0932681  0.0932681  0.09170499 0.09064289\n",
            " 0.08943857 0.0881374  0.08677946 0.08539635 0.08401126 0.08264028\n",
            " 0.0812941  0.0799794  0.07870008 0.07745801 0.07625376 0.07508697\n",
            " 0.07395673 0.07286172 0.07180036 0.07077099 0.06977186 0.06880127\n",
            " 0.06785756 0.06693917 0.06604464 0.06517261 0.06432188 0.0634914\n",
            " 0.06268017 0.06188736 0.06111223 0.06035424]\n",
            "2 day output [[0.05961283]]\n",
            "3 day input [0.1261866  0.12804008 0.12265498 0.11944897 0.12303068 0.11927364\n",
            " 0.1265623  0.14174076 0.11772073 0.12140263 0.11403882 0.10985598\n",
            " 0.11932373 0.1253851  0.11742016 0.11496556 0.10917971 0.11003131\n",
            " 0.11251096 0.10770194 0.08926738 0.07854728 0.08919224 0.09833438\n",
            " 0.09908579 0.09665623 0.08328115 0.0841077  0.08050094 0.07889793\n",
            " 0.09054477 0.07899812 0.08909205 0.09244834 0.09272386 0.09154665\n",
            " 0.10126487 0.10672511 0.11396368 0.10647464 0.09507827 0.12247965\n",
            " 0.11646838 0.10973075 0.09565435 0.08025047 0.07899812 0.08035066\n",
            " 0.08180338 0.07020664 0.10026299 0.10735128 0.10379461 0.10820288\n",
            " 0.10507201 0.10990607 0.11133375 0.10311835 0.10855354 0.11078272\n",
            " 0.10336882 0.09362555 0.08598622 0.10316844 0.10386976 0.10261741\n",
            " 0.09966187 0.0932681  0.0932681  0.09170499 0.09064289 0.08943857\n",
            " 0.0881374  0.08677946 0.08539635 0.08401126 0.08264028 0.0812941\n",
            " 0.0799794  0.07870008 0.07745801 0.07625376 0.07508697 0.07395673\n",
            " 0.07286172 0.07180036 0.07077099 0.06977186 0.06880127 0.06785756\n",
            " 0.06693917 0.06604464 0.06517261 0.06432188 0.0634914  0.06268017\n",
            " 0.06188736 0.06111223 0.06035424 0.05961283]\n",
            "3 day output [[0.05888758]]\n",
            "4 day input [0.12804008 0.12265498 0.11944897 0.12303068 0.11927364 0.1265623\n",
            " 0.14174076 0.11772073 0.12140263 0.11403882 0.10985598 0.11932373\n",
            " 0.1253851  0.11742016 0.11496556 0.10917971 0.11003131 0.11251096\n",
            " 0.10770194 0.08926738 0.07854728 0.08919224 0.09833438 0.09908579\n",
            " 0.09665623 0.08328115 0.0841077  0.08050094 0.07889793 0.09054477\n",
            " 0.07899812 0.08909205 0.09244834 0.09272386 0.09154665 0.10126487\n",
            " 0.10672511 0.11396368 0.10647464 0.09507827 0.12247965 0.11646838\n",
            " 0.10973075 0.09565435 0.08025047 0.07899812 0.08035066 0.08180338\n",
            " 0.07020664 0.10026299 0.10735128 0.10379461 0.10820288 0.10507201\n",
            " 0.10990607 0.11133375 0.10311835 0.10855354 0.11078272 0.10336882\n",
            " 0.09362555 0.08598622 0.10316844 0.10386976 0.10261741 0.09966187\n",
            " 0.0932681  0.0932681  0.09170499 0.09064289 0.08943857 0.0881374\n",
            " 0.08677946 0.08539635 0.08401126 0.08264028 0.0812941  0.0799794\n",
            " 0.07870008 0.07745801 0.07625376 0.07508697 0.07395673 0.07286172\n",
            " 0.07180036 0.07077099 0.06977186 0.06880127 0.06785756 0.06693917\n",
            " 0.06604464 0.06517261 0.06432188 0.0634914  0.06268017 0.06188736\n",
            " 0.06111223 0.06035424 0.05961283 0.05888758]\n",
            "4 day output [[0.05817809]]\n",
            "5 day input [0.12265498 0.11944897 0.12303068 0.11927364 0.1265623  0.14174076\n",
            " 0.11772073 0.12140263 0.11403882 0.10985598 0.11932373 0.1253851\n",
            " 0.11742016 0.11496556 0.10917971 0.11003131 0.11251096 0.10770194\n",
            " 0.08926738 0.07854728 0.08919224 0.09833438 0.09908579 0.09665623\n",
            " 0.08328115 0.0841077  0.08050094 0.07889793 0.09054477 0.07899812\n",
            " 0.08909205 0.09244834 0.09272386 0.09154665 0.10126487 0.10672511\n",
            " 0.11396368 0.10647464 0.09507827 0.12247965 0.11646838 0.10973075\n",
            " 0.09565435 0.08025047 0.07899812 0.08035066 0.08180338 0.07020664\n",
            " 0.10026299 0.10735128 0.10379461 0.10820288 0.10507201 0.10990607\n",
            " 0.11133375 0.10311835 0.10855354 0.11078272 0.10336882 0.09362555\n",
            " 0.08598622 0.10316844 0.10386976 0.10261741 0.09966187 0.0932681\n",
            " 0.0932681  0.09170499 0.09064289 0.08943857 0.0881374  0.08677946\n",
            " 0.08539635 0.08401126 0.08264028 0.0812941  0.0799794  0.07870008\n",
            " 0.07745801 0.07625376 0.07508697 0.07395673 0.07286172 0.07180036\n",
            " 0.07077099 0.06977186 0.06880127 0.06785756 0.06693917 0.06604464\n",
            " 0.06517261 0.06432188 0.0634914  0.06268017 0.06188736 0.06111223\n",
            " 0.06035424 0.05961283 0.05888758 0.05817809]\n",
            "5 day output [[0.05748404]]\n",
            "6 day input [0.11944897 0.12303068 0.11927364 0.1265623  0.14174076 0.11772073\n",
            " 0.12140263 0.11403882 0.10985598 0.11932373 0.1253851  0.11742016\n",
            " 0.11496556 0.10917971 0.11003131 0.11251096 0.10770194 0.08926738\n",
            " 0.07854728 0.08919224 0.09833438 0.09908579 0.09665623 0.08328115\n",
            " 0.0841077  0.08050094 0.07889793 0.09054477 0.07899812 0.08909205\n",
            " 0.09244834 0.09272386 0.09154665 0.10126487 0.10672511 0.11396368\n",
            " 0.10647464 0.09507827 0.12247965 0.11646838 0.10973075 0.09565435\n",
            " 0.08025047 0.07899812 0.08035066 0.08180338 0.07020664 0.10026299\n",
            " 0.10735128 0.10379461 0.10820288 0.10507201 0.10990607 0.11133375\n",
            " 0.10311835 0.10855354 0.11078272 0.10336882 0.09362555 0.08598622\n",
            " 0.10316844 0.10386976 0.10261741 0.09966187 0.0932681  0.0932681\n",
            " 0.09170499 0.09064289 0.08943857 0.0881374  0.08677946 0.08539635\n",
            " 0.08401126 0.08264028 0.0812941  0.0799794  0.07870008 0.07745801\n",
            " 0.07625376 0.07508697 0.07395673 0.07286172 0.07180036 0.07077099\n",
            " 0.06977186 0.06880127 0.06785756 0.06693917 0.06604464 0.06517261\n",
            " 0.06432188 0.0634914  0.06268017 0.06188736 0.06111223 0.06035424\n",
            " 0.05961283 0.05888758 0.05817809 0.05748404]\n",
            "6 day output [[0.05680519]]\n",
            "7 day input [0.12303068 0.11927364 0.1265623  0.14174076 0.11772073 0.12140263\n",
            " 0.11403882 0.10985598 0.11932373 0.1253851  0.11742016 0.11496556\n",
            " 0.10917971 0.11003131 0.11251096 0.10770194 0.08926738 0.07854728\n",
            " 0.08919224 0.09833438 0.09908579 0.09665623 0.08328115 0.0841077\n",
            " 0.08050094 0.07889793 0.09054477 0.07899812 0.08909205 0.09244834\n",
            " 0.09272386 0.09154665 0.10126487 0.10672511 0.11396368 0.10647464\n",
            " 0.09507827 0.12247965 0.11646838 0.10973075 0.09565435 0.08025047\n",
            " 0.07899812 0.08035066 0.08180338 0.07020664 0.10026299 0.10735128\n",
            " 0.10379461 0.10820288 0.10507201 0.10990607 0.11133375 0.10311835\n",
            " 0.10855354 0.11078272 0.10336882 0.09362555 0.08598622 0.10316844\n",
            " 0.10386976 0.10261741 0.09966187 0.0932681  0.0932681  0.09170499\n",
            " 0.09064289 0.08943857 0.0881374  0.08677946 0.08539635 0.08401126\n",
            " 0.08264028 0.0812941  0.0799794  0.07870008 0.07745801 0.07625376\n",
            " 0.07508697 0.07395673 0.07286172 0.07180036 0.07077099 0.06977186\n",
            " 0.06880127 0.06785756 0.06693917 0.06604464 0.06517261 0.06432188\n",
            " 0.0634914  0.06268017 0.06188736 0.06111223 0.06035424 0.05961283\n",
            " 0.05888758 0.05817809 0.05748404 0.05680519]\n",
            "7 day output [[0.05614129]]\n",
            "8 day input [0.11927364 0.1265623  0.14174076 0.11772073 0.12140263 0.11403882\n",
            " 0.10985598 0.11932373 0.1253851  0.11742016 0.11496556 0.10917971\n",
            " 0.11003131 0.11251096 0.10770194 0.08926738 0.07854728 0.08919224\n",
            " 0.09833438 0.09908579 0.09665623 0.08328115 0.0841077  0.08050094\n",
            " 0.07889793 0.09054477 0.07899812 0.08909205 0.09244834 0.09272386\n",
            " 0.09154665 0.10126487 0.10672511 0.11396368 0.10647464 0.09507827\n",
            " 0.12247965 0.11646838 0.10973075 0.09565435 0.08025047 0.07899812\n",
            " 0.08035066 0.08180338 0.07020664 0.10026299 0.10735128 0.10379461\n",
            " 0.10820288 0.10507201 0.10990607 0.11133375 0.10311835 0.10855354\n",
            " 0.11078272 0.10336882 0.09362555 0.08598622 0.10316844 0.10386976\n",
            " 0.10261741 0.09966187 0.0932681  0.0932681  0.09170499 0.09064289\n",
            " 0.08943857 0.0881374  0.08677946 0.08539635 0.08401126 0.08264028\n",
            " 0.0812941  0.0799794  0.07870008 0.07745801 0.07625376 0.07508697\n",
            " 0.07395673 0.07286172 0.07180036 0.07077099 0.06977186 0.06880127\n",
            " 0.06785756 0.06693917 0.06604464 0.06517261 0.06432188 0.0634914\n",
            " 0.06268017 0.06188736 0.06111223 0.06035424 0.05961283 0.05888758\n",
            " 0.05817809 0.05748404 0.05680519 0.05614129]\n",
            "8 day output [[0.05549213]]\n",
            "9 day input [0.1265623  0.14174076 0.11772073 0.12140263 0.11403882 0.10985598\n",
            " 0.11932373 0.1253851  0.11742016 0.11496556 0.10917971 0.11003131\n",
            " 0.11251096 0.10770194 0.08926738 0.07854728 0.08919224 0.09833438\n",
            " 0.09908579 0.09665623 0.08328115 0.0841077  0.08050094 0.07889793\n",
            " 0.09054477 0.07899812 0.08909205 0.09244834 0.09272386 0.09154665\n",
            " 0.10126487 0.10672511 0.11396368 0.10647464 0.09507827 0.12247965\n",
            " 0.11646838 0.10973075 0.09565435 0.08025047 0.07899812 0.08035066\n",
            " 0.08180338 0.07020664 0.10026299 0.10735128 0.10379461 0.10820288\n",
            " 0.10507201 0.10990607 0.11133375 0.10311835 0.10855354 0.11078272\n",
            " 0.10336882 0.09362555 0.08598622 0.10316844 0.10386976 0.10261741\n",
            " 0.09966187 0.0932681  0.0932681  0.09170499 0.09064289 0.08943857\n",
            " 0.0881374  0.08677946 0.08539635 0.08401126 0.08264028 0.0812941\n",
            " 0.0799794  0.07870008 0.07745801 0.07625376 0.07508697 0.07395673\n",
            " 0.07286172 0.07180036 0.07077099 0.06977186 0.06880127 0.06785756\n",
            " 0.06693917 0.06604464 0.06517261 0.06432188 0.0634914  0.06268017\n",
            " 0.06188736 0.06111223 0.06035424 0.05961283 0.05888758 0.05817809\n",
            " 0.05748404 0.05680519 0.05614129 0.05549213]\n",
            "9 day output [[0.05485749]]\n",
            "10 day input [0.14174076 0.11772073 0.12140263 0.11403882 0.10985598 0.11932373\n",
            " 0.1253851  0.11742016 0.11496556 0.10917971 0.11003131 0.11251096\n",
            " 0.10770194 0.08926738 0.07854728 0.08919224 0.09833438 0.09908579\n",
            " 0.09665623 0.08328115 0.0841077  0.08050094 0.07889793 0.09054477\n",
            " 0.07899812 0.08909205 0.09244834 0.09272386 0.09154665 0.10126487\n",
            " 0.10672511 0.11396368 0.10647464 0.09507827 0.12247965 0.11646838\n",
            " 0.10973075 0.09565435 0.08025047 0.07899812 0.08035066 0.08180338\n",
            " 0.07020664 0.10026299 0.10735128 0.10379461 0.10820288 0.10507201\n",
            " 0.10990607 0.11133375 0.10311835 0.10855354 0.11078272 0.10336882\n",
            " 0.09362555 0.08598622 0.10316844 0.10386976 0.10261741 0.09966187\n",
            " 0.0932681  0.0932681  0.09170499 0.09064289 0.08943857 0.0881374\n",
            " 0.08677946 0.08539635 0.08401126 0.08264028 0.0812941  0.0799794\n",
            " 0.07870008 0.07745801 0.07625376 0.07508697 0.07395673 0.07286172\n",
            " 0.07180036 0.07077099 0.06977186 0.06880127 0.06785756 0.06693917\n",
            " 0.06604464 0.06517261 0.06432188 0.0634914  0.06268017 0.06188736\n",
            " 0.06111223 0.06035424 0.05961283 0.05888758 0.05817809 0.05748404\n",
            " 0.05680519 0.05614129 0.05549213 0.05485749]\n",
            "10 day output [[0.05423716]]\n",
            "11 day input [0.11772073 0.12140263 0.11403882 0.10985598 0.11932373 0.1253851\n",
            " 0.11742016 0.11496556 0.10917971 0.11003131 0.11251096 0.10770194\n",
            " 0.08926738 0.07854728 0.08919224 0.09833438 0.09908579 0.09665623\n",
            " 0.08328115 0.0841077  0.08050094 0.07889793 0.09054477 0.07899812\n",
            " 0.08909205 0.09244834 0.09272386 0.09154665 0.10126487 0.10672511\n",
            " 0.11396368 0.10647464 0.09507827 0.12247965 0.11646838 0.10973075\n",
            " 0.09565435 0.08025047 0.07899812 0.08035066 0.08180338 0.07020664\n",
            " 0.10026299 0.10735128 0.10379461 0.10820288 0.10507201 0.10990607\n",
            " 0.11133375 0.10311835 0.10855354 0.11078272 0.10336882 0.09362555\n",
            " 0.08598622 0.10316844 0.10386976 0.10261741 0.09966187 0.0932681\n",
            " 0.0932681  0.09170499 0.09064289 0.08943857 0.0881374  0.08677946\n",
            " 0.08539635 0.08401126 0.08264028 0.0812941  0.0799794  0.07870008\n",
            " 0.07745801 0.07625376 0.07508697 0.07395673 0.07286172 0.07180036\n",
            " 0.07077099 0.06977186 0.06880127 0.06785756 0.06693917 0.06604464\n",
            " 0.06517261 0.06432188 0.0634914  0.06268017 0.06188736 0.06111223\n",
            " 0.06035424 0.05961283 0.05888758 0.05817809 0.05748404 0.05680519\n",
            " 0.05614129 0.05549213 0.05485749 0.05423716]\n",
            "11 day output [[0.05363096]]\n",
            "12 day input [0.12140263 0.11403882 0.10985598 0.11932373 0.1253851  0.11742016\n",
            " 0.11496556 0.10917971 0.11003131 0.11251096 0.10770194 0.08926738\n",
            " 0.07854728 0.08919224 0.09833438 0.09908579 0.09665623 0.08328115\n",
            " 0.0841077  0.08050094 0.07889793 0.09054477 0.07899812 0.08909205\n",
            " 0.09244834 0.09272386 0.09154665 0.10126487 0.10672511 0.11396368\n",
            " 0.10647464 0.09507827 0.12247965 0.11646838 0.10973075 0.09565435\n",
            " 0.08025047 0.07899812 0.08035066 0.08180338 0.07020664 0.10026299\n",
            " 0.10735128 0.10379461 0.10820288 0.10507201 0.10990607 0.11133375\n",
            " 0.10311835 0.10855354 0.11078272 0.10336882 0.09362555 0.08598622\n",
            " 0.10316844 0.10386976 0.10261741 0.09966187 0.0932681  0.0932681\n",
            " 0.09170499 0.09064289 0.08943857 0.0881374  0.08677946 0.08539635\n",
            " 0.08401126 0.08264028 0.0812941  0.0799794  0.07870008 0.07745801\n",
            " 0.07625376 0.07508697 0.07395673 0.07286172 0.07180036 0.07077099\n",
            " 0.06977186 0.06880127 0.06785756 0.06693917 0.06604464 0.06517261\n",
            " 0.06432188 0.0634914  0.06268017 0.06188736 0.06111223 0.06035424\n",
            " 0.05961283 0.05888758 0.05817809 0.05748404 0.05680519 0.05614129\n",
            " 0.05549213 0.05485749 0.05423716 0.05363096]\n",
            "12 day output [[0.05303878]]\n",
            "13 day input [0.11403882 0.10985598 0.11932373 0.1253851  0.11742016 0.11496556\n",
            " 0.10917971 0.11003131 0.11251096 0.10770194 0.08926738 0.07854728\n",
            " 0.08919224 0.09833438 0.09908579 0.09665623 0.08328115 0.0841077\n",
            " 0.08050094 0.07889793 0.09054477 0.07899812 0.08909205 0.09244834\n",
            " 0.09272386 0.09154665 0.10126487 0.10672511 0.11396368 0.10647464\n",
            " 0.09507827 0.12247965 0.11646838 0.10973075 0.09565435 0.08025047\n",
            " 0.07899812 0.08035066 0.08180338 0.07020664 0.10026299 0.10735128\n",
            " 0.10379461 0.10820288 0.10507201 0.10990607 0.11133375 0.10311835\n",
            " 0.10855354 0.11078272 0.10336882 0.09362555 0.08598622 0.10316844\n",
            " 0.10386976 0.10261741 0.09966187 0.0932681  0.0932681  0.09170499\n",
            " 0.09064289 0.08943857 0.0881374  0.08677946 0.08539635 0.08401126\n",
            " 0.08264028 0.0812941  0.0799794  0.07870008 0.07745801 0.07625376\n",
            " 0.07508697 0.07395673 0.07286172 0.07180036 0.07077099 0.06977186\n",
            " 0.06880127 0.06785756 0.06693917 0.06604464 0.06517261 0.06432188\n",
            " 0.0634914  0.06268017 0.06188736 0.06111223 0.06035424 0.05961283\n",
            " 0.05888758 0.05817809 0.05748404 0.05680519 0.05614129 0.05549213\n",
            " 0.05485749 0.05423716 0.05363096 0.05303878]\n",
            "13 day output [[0.05246032]]\n",
            "14 day input [0.10985598 0.11932373 0.1253851  0.11742016 0.11496556 0.10917971\n",
            " 0.11003131 0.11251096 0.10770194 0.08926738 0.07854728 0.08919224\n",
            " 0.09833438 0.09908579 0.09665623 0.08328115 0.0841077  0.08050094\n",
            " 0.07889793 0.09054477 0.07899812 0.08909205 0.09244834 0.09272386\n",
            " 0.09154665 0.10126487 0.10672511 0.11396368 0.10647464 0.09507827\n",
            " 0.12247965 0.11646838 0.10973075 0.09565435 0.08025047 0.07899812\n",
            " 0.08035066 0.08180338 0.07020664 0.10026299 0.10735128 0.10379461\n",
            " 0.10820288 0.10507201 0.10990607 0.11133375 0.10311835 0.10855354\n",
            " 0.11078272 0.10336882 0.09362555 0.08598622 0.10316844 0.10386976\n",
            " 0.10261741 0.09966187 0.0932681  0.0932681  0.09170499 0.09064289\n",
            " 0.08943857 0.0881374  0.08677946 0.08539635 0.08401126 0.08264028\n",
            " 0.0812941  0.0799794  0.07870008 0.07745801 0.07625376 0.07508697\n",
            " 0.07395673 0.07286172 0.07180036 0.07077099 0.06977186 0.06880127\n",
            " 0.06785756 0.06693917 0.06604464 0.06517261 0.06432188 0.0634914\n",
            " 0.06268017 0.06188736 0.06111223 0.06035424 0.05961283 0.05888758\n",
            " 0.05817809 0.05748404 0.05680519 0.05614129 0.05549213 0.05485749\n",
            " 0.05423716 0.05363096 0.05303878 0.05246032]\n",
            "14 day output [[0.05189545]]\n",
            "15 day input [0.11932373 0.1253851  0.11742016 0.11496556 0.10917971 0.11003131\n",
            " 0.11251096 0.10770194 0.08926738 0.07854728 0.08919224 0.09833438\n",
            " 0.09908579 0.09665623 0.08328115 0.0841077  0.08050094 0.07889793\n",
            " 0.09054477 0.07899812 0.08909205 0.09244834 0.09272386 0.09154665\n",
            " 0.10126487 0.10672511 0.11396368 0.10647464 0.09507827 0.12247965\n",
            " 0.11646838 0.10973075 0.09565435 0.08025047 0.07899812 0.08035066\n",
            " 0.08180338 0.07020664 0.10026299 0.10735128 0.10379461 0.10820288\n",
            " 0.10507201 0.10990607 0.11133375 0.10311835 0.10855354 0.11078272\n",
            " 0.10336882 0.09362555 0.08598622 0.10316844 0.10386976 0.10261741\n",
            " 0.09966187 0.0932681  0.0932681  0.09170499 0.09064289 0.08943857\n",
            " 0.0881374  0.08677946 0.08539635 0.08401126 0.08264028 0.0812941\n",
            " 0.0799794  0.07870008 0.07745801 0.07625376 0.07508697 0.07395673\n",
            " 0.07286172 0.07180036 0.07077099 0.06977186 0.06880127 0.06785756\n",
            " 0.06693917 0.06604464 0.06517261 0.06432188 0.0634914  0.06268017\n",
            " 0.06188736 0.06111223 0.06035424 0.05961283 0.05888758 0.05817809\n",
            " 0.05748404 0.05680519 0.05614129 0.05549213 0.05485749 0.05423716\n",
            " 0.05363096 0.05303878 0.05246032 0.05189545]\n",
            "15 day output [[0.05134392]]\n",
            "16 day input [0.1253851  0.11742016 0.11496556 0.10917971 0.11003131 0.11251096\n",
            " 0.10770194 0.08926738 0.07854728 0.08919224 0.09833438 0.09908579\n",
            " 0.09665623 0.08328115 0.0841077  0.08050094 0.07889793 0.09054477\n",
            " 0.07899812 0.08909205 0.09244834 0.09272386 0.09154665 0.10126487\n",
            " 0.10672511 0.11396368 0.10647464 0.09507827 0.12247965 0.11646838\n",
            " 0.10973075 0.09565435 0.08025047 0.07899812 0.08035066 0.08180338\n",
            " 0.07020664 0.10026299 0.10735128 0.10379461 0.10820288 0.10507201\n",
            " 0.10990607 0.11133375 0.10311835 0.10855354 0.11078272 0.10336882\n",
            " 0.09362555 0.08598622 0.10316844 0.10386976 0.10261741 0.09966187\n",
            " 0.0932681  0.0932681  0.09170499 0.09064289 0.08943857 0.0881374\n",
            " 0.08677946 0.08539635 0.08401126 0.08264028 0.0812941  0.0799794\n",
            " 0.07870008 0.07745801 0.07625376 0.07508697 0.07395673 0.07286172\n",
            " 0.07180036 0.07077099 0.06977186 0.06880127 0.06785756 0.06693917\n",
            " 0.06604464 0.06517261 0.06432188 0.0634914  0.06268017 0.06188736\n",
            " 0.06111223 0.06035424 0.05961283 0.05888758 0.05817809 0.05748404\n",
            " 0.05680519 0.05614129 0.05549213 0.05485749 0.05423716 0.05363096\n",
            " 0.05303878 0.05246032 0.05189545 0.05134392]\n",
            "16 day output [[0.05080545]]\n",
            "17 day input [0.11742016 0.11496556 0.10917971 0.11003131 0.11251096 0.10770194\n",
            " 0.08926738 0.07854728 0.08919224 0.09833438 0.09908579 0.09665623\n",
            " 0.08328115 0.0841077  0.08050094 0.07889793 0.09054477 0.07899812\n",
            " 0.08909205 0.09244834 0.09272386 0.09154665 0.10126487 0.10672511\n",
            " 0.11396368 0.10647464 0.09507827 0.12247965 0.11646838 0.10973075\n",
            " 0.09565435 0.08025047 0.07899812 0.08035066 0.08180338 0.07020664\n",
            " 0.10026299 0.10735128 0.10379461 0.10820288 0.10507201 0.10990607\n",
            " 0.11133375 0.10311835 0.10855354 0.11078272 0.10336882 0.09362555\n",
            " 0.08598622 0.10316844 0.10386976 0.10261741 0.09966187 0.0932681\n",
            " 0.0932681  0.09170499 0.09064289 0.08943857 0.0881374  0.08677946\n",
            " 0.08539635 0.08401126 0.08264028 0.0812941  0.0799794  0.07870008\n",
            " 0.07745801 0.07625376 0.07508697 0.07395673 0.07286172 0.07180036\n",
            " 0.07077099 0.06977186 0.06880127 0.06785756 0.06693917 0.06604464\n",
            " 0.06517261 0.06432188 0.0634914  0.06268017 0.06188736 0.06111223\n",
            " 0.06035424 0.05961283 0.05888758 0.05817809 0.05748404 0.05680519\n",
            " 0.05614129 0.05549213 0.05485749 0.05423716 0.05363096 0.05303878\n",
            " 0.05246032 0.05189545 0.05134392 0.05080545]\n",
            "17 day output [[0.05027986]]\n",
            "18 day input [0.11496556 0.10917971 0.11003131 0.11251096 0.10770194 0.08926738\n",
            " 0.07854728 0.08919224 0.09833438 0.09908579 0.09665623 0.08328115\n",
            " 0.0841077  0.08050094 0.07889793 0.09054477 0.07899812 0.08909205\n",
            " 0.09244834 0.09272386 0.09154665 0.10126487 0.10672511 0.11396368\n",
            " 0.10647464 0.09507827 0.12247965 0.11646838 0.10973075 0.09565435\n",
            " 0.08025047 0.07899812 0.08035066 0.08180338 0.07020664 0.10026299\n",
            " 0.10735128 0.10379461 0.10820288 0.10507201 0.10990607 0.11133375\n",
            " 0.10311835 0.10855354 0.11078272 0.10336882 0.09362555 0.08598622\n",
            " 0.10316844 0.10386976 0.10261741 0.09966187 0.0932681  0.0932681\n",
            " 0.09170499 0.09064289 0.08943857 0.0881374  0.08677946 0.08539635\n",
            " 0.08401126 0.08264028 0.0812941  0.0799794  0.07870008 0.07745801\n",
            " 0.07625376 0.07508697 0.07395673 0.07286172 0.07180036 0.07077099\n",
            " 0.06977186 0.06880127 0.06785756 0.06693917 0.06604464 0.06517261\n",
            " 0.06432188 0.0634914  0.06268017 0.06188736 0.06111223 0.06035424\n",
            " 0.05961283 0.05888758 0.05817809 0.05748404 0.05680519 0.05614129\n",
            " 0.05549213 0.05485749 0.05423716 0.05363096 0.05303878 0.05246032\n",
            " 0.05189545 0.05134392 0.05080545 0.05027986]\n",
            "18 day output [[0.04976691]]\n",
            "19 day input [0.10917971 0.11003131 0.11251096 0.10770194 0.08926738 0.07854728\n",
            " 0.08919224 0.09833438 0.09908579 0.09665623 0.08328115 0.0841077\n",
            " 0.08050094 0.07889793 0.09054477 0.07899812 0.08909205 0.09244834\n",
            " 0.09272386 0.09154665 0.10126487 0.10672511 0.11396368 0.10647464\n",
            " 0.09507827 0.12247965 0.11646838 0.10973075 0.09565435 0.08025047\n",
            " 0.07899812 0.08035066 0.08180338 0.07020664 0.10026299 0.10735128\n",
            " 0.10379461 0.10820288 0.10507201 0.10990607 0.11133375 0.10311835\n",
            " 0.10855354 0.11078272 0.10336882 0.09362555 0.08598622 0.10316844\n",
            " 0.10386976 0.10261741 0.09966187 0.0932681  0.0932681  0.09170499\n",
            " 0.09064289 0.08943857 0.0881374  0.08677946 0.08539635 0.08401126\n",
            " 0.08264028 0.0812941  0.0799794  0.07870008 0.07745801 0.07625376\n",
            " 0.07508697 0.07395673 0.07286172 0.07180036 0.07077099 0.06977186\n",
            " 0.06880127 0.06785756 0.06693917 0.06604464 0.06517261 0.06432188\n",
            " 0.0634914  0.06268017 0.06188736 0.06111223 0.06035424 0.05961283\n",
            " 0.05888758 0.05817809 0.05748404 0.05680519 0.05614129 0.05549213\n",
            " 0.05485749 0.05423716 0.05363096 0.05303878 0.05246032 0.05189545\n",
            " 0.05134392 0.05080545 0.05027986 0.04976691]\n",
            "19 day output [[0.04926631]]\n",
            "20 day input [0.11003131 0.11251096 0.10770194 0.08926738 0.07854728 0.08919224\n",
            " 0.09833438 0.09908579 0.09665623 0.08328115 0.0841077  0.08050094\n",
            " 0.07889793 0.09054477 0.07899812 0.08909205 0.09244834 0.09272386\n",
            " 0.09154665 0.10126487 0.10672511 0.11396368 0.10647464 0.09507827\n",
            " 0.12247965 0.11646838 0.10973075 0.09565435 0.08025047 0.07899812\n",
            " 0.08035066 0.08180338 0.07020664 0.10026299 0.10735128 0.10379461\n",
            " 0.10820288 0.10507201 0.10990607 0.11133375 0.10311835 0.10855354\n",
            " 0.11078272 0.10336882 0.09362555 0.08598622 0.10316844 0.10386976\n",
            " 0.10261741 0.09966187 0.0932681  0.0932681  0.09170499 0.09064289\n",
            " 0.08943857 0.0881374  0.08677946 0.08539635 0.08401126 0.08264028\n",
            " 0.0812941  0.0799794  0.07870008 0.07745801 0.07625376 0.07508697\n",
            " 0.07395673 0.07286172 0.07180036 0.07077099 0.06977186 0.06880127\n",
            " 0.06785756 0.06693917 0.06604464 0.06517261 0.06432188 0.0634914\n",
            " 0.06268017 0.06188736 0.06111223 0.06035424 0.05961283 0.05888758\n",
            " 0.05817809 0.05748404 0.05680519 0.05614129 0.05549213 0.05485749\n",
            " 0.05423716 0.05363096 0.05303878 0.05246032 0.05189545 0.05134392\n",
            " 0.05080545 0.05027986 0.04976691 0.04926631]\n",
            "20 day output [[0.04877785]]\n",
            "21 day input [0.11251096 0.10770194 0.08926738 0.07854728 0.08919224 0.09833438\n",
            " 0.09908579 0.09665623 0.08328115 0.0841077  0.08050094 0.07889793\n",
            " 0.09054477 0.07899812 0.08909205 0.09244834 0.09272386 0.09154665\n",
            " 0.10126487 0.10672511 0.11396368 0.10647464 0.09507827 0.12247965\n",
            " 0.11646838 0.10973075 0.09565435 0.08025047 0.07899812 0.08035066\n",
            " 0.08180338 0.07020664 0.10026299 0.10735128 0.10379461 0.10820288\n",
            " 0.10507201 0.10990607 0.11133375 0.10311835 0.10855354 0.11078272\n",
            " 0.10336882 0.09362555 0.08598622 0.10316844 0.10386976 0.10261741\n",
            " 0.09966187 0.0932681  0.0932681  0.09170499 0.09064289 0.08943857\n",
            " 0.0881374  0.08677946 0.08539635 0.08401126 0.08264028 0.0812941\n",
            " 0.0799794  0.07870008 0.07745801 0.07625376 0.07508697 0.07395673\n",
            " 0.07286172 0.07180036 0.07077099 0.06977186 0.06880127 0.06785756\n",
            " 0.06693917 0.06604464 0.06517261 0.06432188 0.0634914  0.06268017\n",
            " 0.06188736 0.06111223 0.06035424 0.05961283 0.05888758 0.05817809\n",
            " 0.05748404 0.05680519 0.05614129 0.05549213 0.05485749 0.05423716\n",
            " 0.05363096 0.05303878 0.05246032 0.05189545 0.05134392 0.05080545\n",
            " 0.05027986 0.04976691 0.04926631 0.04877785]\n",
            "21 day output [[0.04830122]]\n",
            "22 day input [0.10770194 0.08926738 0.07854728 0.08919224 0.09833438 0.09908579\n",
            " 0.09665623 0.08328115 0.0841077  0.08050094 0.07889793 0.09054477\n",
            " 0.07899812 0.08909205 0.09244834 0.09272386 0.09154665 0.10126487\n",
            " 0.10672511 0.11396368 0.10647464 0.09507827 0.12247965 0.11646838\n",
            " 0.10973075 0.09565435 0.08025047 0.07899812 0.08035066 0.08180338\n",
            " 0.07020664 0.10026299 0.10735128 0.10379461 0.10820288 0.10507201\n",
            " 0.10990607 0.11133375 0.10311835 0.10855354 0.11078272 0.10336882\n",
            " 0.09362555 0.08598622 0.10316844 0.10386976 0.10261741 0.09966187\n",
            " 0.0932681  0.0932681  0.09170499 0.09064289 0.08943857 0.0881374\n",
            " 0.08677946 0.08539635 0.08401126 0.08264028 0.0812941  0.0799794\n",
            " 0.07870008 0.07745801 0.07625376 0.07508697 0.07395673 0.07286172\n",
            " 0.07180036 0.07077099 0.06977186 0.06880127 0.06785756 0.06693917\n",
            " 0.06604464 0.06517261 0.06432188 0.0634914  0.06268017 0.06188736\n",
            " 0.06111223 0.06035424 0.05961283 0.05888758 0.05817809 0.05748404\n",
            " 0.05680519 0.05614129 0.05549213 0.05485749 0.05423716 0.05363096\n",
            " 0.05303878 0.05246032 0.05189545 0.05134392 0.05080545 0.05027986\n",
            " 0.04976691 0.04926631 0.04877785 0.04830122]\n",
            "22 day output [[0.04783617]]\n",
            "23 day input [0.08926738 0.07854728 0.08919224 0.09833438 0.09908579 0.09665623\n",
            " 0.08328115 0.0841077  0.08050094 0.07889793 0.09054477 0.07899812\n",
            " 0.08909205 0.09244834 0.09272386 0.09154665 0.10126487 0.10672511\n",
            " 0.11396368 0.10647464 0.09507827 0.12247965 0.11646838 0.10973075\n",
            " 0.09565435 0.08025047 0.07899812 0.08035066 0.08180338 0.07020664\n",
            " 0.10026299 0.10735128 0.10379461 0.10820288 0.10507201 0.10990607\n",
            " 0.11133375 0.10311835 0.10855354 0.11078272 0.10336882 0.09362555\n",
            " 0.08598622 0.10316844 0.10386976 0.10261741 0.09966187 0.0932681\n",
            " 0.0932681  0.09170499 0.09064289 0.08943857 0.0881374  0.08677946\n",
            " 0.08539635 0.08401126 0.08264028 0.0812941  0.0799794  0.07870008\n",
            " 0.07745801 0.07625376 0.07508697 0.07395673 0.07286172 0.07180036\n",
            " 0.07077099 0.06977186 0.06880127 0.06785756 0.06693917 0.06604464\n",
            " 0.06517261 0.06432188 0.0634914  0.06268017 0.06188736 0.06111223\n",
            " 0.06035424 0.05961283 0.05888758 0.05817809 0.05748404 0.05680519\n",
            " 0.05614129 0.05549213 0.05485749 0.05423716 0.05363096 0.05303878\n",
            " 0.05246032 0.05189545 0.05134392 0.05080545 0.05027986 0.04976691\n",
            " 0.04926631 0.04877785 0.04830122 0.04783617]\n",
            "23 day output [[0.04738242]]\n",
            "24 day input [0.07854728 0.08919224 0.09833438 0.09908579 0.09665623 0.08328115\n",
            " 0.0841077  0.08050094 0.07889793 0.09054477 0.07899812 0.08909205\n",
            " 0.09244834 0.09272386 0.09154665 0.10126487 0.10672511 0.11396368\n",
            " 0.10647464 0.09507827 0.12247965 0.11646838 0.10973075 0.09565435\n",
            " 0.08025047 0.07899812 0.08035066 0.08180338 0.07020664 0.10026299\n",
            " 0.10735128 0.10379461 0.10820288 0.10507201 0.10990607 0.11133375\n",
            " 0.10311835 0.10855354 0.11078272 0.10336882 0.09362555 0.08598622\n",
            " 0.10316844 0.10386976 0.10261741 0.09966187 0.0932681  0.0932681\n",
            " 0.09170499 0.09064289 0.08943857 0.0881374  0.08677946 0.08539635\n",
            " 0.08401126 0.08264028 0.0812941  0.0799794  0.07870008 0.07745801\n",
            " 0.07625376 0.07508697 0.07395673 0.07286172 0.07180036 0.07077099\n",
            " 0.06977186 0.06880127 0.06785756 0.06693917 0.06604464 0.06517261\n",
            " 0.06432188 0.0634914  0.06268017 0.06188736 0.06111223 0.06035424\n",
            " 0.05961283 0.05888758 0.05817809 0.05748404 0.05680519 0.05614129\n",
            " 0.05549213 0.05485749 0.05423716 0.05363096 0.05303878 0.05246032\n",
            " 0.05189545 0.05134392 0.05080545 0.05027986 0.04976691 0.04926631\n",
            " 0.04877785 0.04830122 0.04783617 0.04738242]\n",
            "24 day output [[0.04693978]]\n",
            "25 day input [0.08919224 0.09833438 0.09908579 0.09665623 0.08328115 0.0841077\n",
            " 0.08050094 0.07889793 0.09054477 0.07899812 0.08909205 0.09244834\n",
            " 0.09272386 0.09154665 0.10126487 0.10672511 0.11396368 0.10647464\n",
            " 0.09507827 0.12247965 0.11646838 0.10973075 0.09565435 0.08025047\n",
            " 0.07899812 0.08035066 0.08180338 0.07020664 0.10026299 0.10735128\n",
            " 0.10379461 0.10820288 0.10507201 0.10990607 0.11133375 0.10311835\n",
            " 0.10855354 0.11078272 0.10336882 0.09362555 0.08598622 0.10316844\n",
            " 0.10386976 0.10261741 0.09966187 0.0932681  0.0932681  0.09170499\n",
            " 0.09064289 0.08943857 0.0881374  0.08677946 0.08539635 0.08401126\n",
            " 0.08264028 0.0812941  0.0799794  0.07870008 0.07745801 0.07625376\n",
            " 0.07508697 0.07395673 0.07286172 0.07180036 0.07077099 0.06977186\n",
            " 0.06880127 0.06785756 0.06693917 0.06604464 0.06517261 0.06432188\n",
            " 0.0634914  0.06268017 0.06188736 0.06111223 0.06035424 0.05961283\n",
            " 0.05888758 0.05817809 0.05748404 0.05680519 0.05614129 0.05549213\n",
            " 0.05485749 0.05423716 0.05363096 0.05303878 0.05246032 0.05189545\n",
            " 0.05134392 0.05080545 0.05027986 0.04976691 0.04926631 0.04877785\n",
            " 0.04830122 0.04783617 0.04738242 0.04693978]\n",
            "25 day output [[0.04650792]]\n",
            "26 day input [0.09833438 0.09908579 0.09665623 0.08328115 0.0841077  0.08050094\n",
            " 0.07889793 0.09054477 0.07899812 0.08909205 0.09244834 0.09272386\n",
            " 0.09154665 0.10126487 0.10672511 0.11396368 0.10647464 0.09507827\n",
            " 0.12247965 0.11646838 0.10973075 0.09565435 0.08025047 0.07899812\n",
            " 0.08035066 0.08180338 0.07020664 0.10026299 0.10735128 0.10379461\n",
            " 0.10820288 0.10507201 0.10990607 0.11133375 0.10311835 0.10855354\n",
            " 0.11078272 0.10336882 0.09362555 0.08598622 0.10316844 0.10386976\n",
            " 0.10261741 0.09966187 0.0932681  0.0932681  0.09170499 0.09064289\n",
            " 0.08943857 0.0881374  0.08677946 0.08539635 0.08401126 0.08264028\n",
            " 0.0812941  0.0799794  0.07870008 0.07745801 0.07625376 0.07508697\n",
            " 0.07395673 0.07286172 0.07180036 0.07077099 0.06977186 0.06880127\n",
            " 0.06785756 0.06693917 0.06604464 0.06517261 0.06432188 0.0634914\n",
            " 0.06268017 0.06188736 0.06111223 0.06035424 0.05961283 0.05888758\n",
            " 0.05817809 0.05748404 0.05680519 0.05614129 0.05549213 0.05485749\n",
            " 0.05423716 0.05363096 0.05303878 0.05246032 0.05189545 0.05134392\n",
            " 0.05080545 0.05027986 0.04976691 0.04926631 0.04877785 0.04830122\n",
            " 0.04783617 0.04738242 0.04693978 0.04650792]\n",
            "26 day output [[0.04608653]]\n",
            "27 day input [0.09908579 0.09665623 0.08328115 0.0841077  0.08050094 0.07889793\n",
            " 0.09054477 0.07899812 0.08909205 0.09244834 0.09272386 0.09154665\n",
            " 0.10126487 0.10672511 0.11396368 0.10647464 0.09507827 0.12247965\n",
            " 0.11646838 0.10973075 0.09565435 0.08025047 0.07899812 0.08035066\n",
            " 0.08180338 0.07020664 0.10026299 0.10735128 0.10379461 0.10820288\n",
            " 0.10507201 0.10990607 0.11133375 0.10311835 0.10855354 0.11078272\n",
            " 0.10336882 0.09362555 0.08598622 0.10316844 0.10386976 0.10261741\n",
            " 0.09966187 0.0932681  0.0932681  0.09170499 0.09064289 0.08943857\n",
            " 0.0881374  0.08677946 0.08539635 0.08401126 0.08264028 0.0812941\n",
            " 0.0799794  0.07870008 0.07745801 0.07625376 0.07508697 0.07395673\n",
            " 0.07286172 0.07180036 0.07077099 0.06977186 0.06880127 0.06785756\n",
            " 0.06693917 0.06604464 0.06517261 0.06432188 0.0634914  0.06268017\n",
            " 0.06188736 0.06111223 0.06035424 0.05961283 0.05888758 0.05817809\n",
            " 0.05748404 0.05680519 0.05614129 0.05549213 0.05485749 0.05423716\n",
            " 0.05363096 0.05303878 0.05246032 0.05189545 0.05134392 0.05080545\n",
            " 0.05027986 0.04976691 0.04926631 0.04877785 0.04830122 0.04783617\n",
            " 0.04738242 0.04693978 0.04650792 0.04608653]\n",
            "27 day output [[0.04567537]]\n",
            "28 day input [0.09665623 0.08328115 0.0841077  0.08050094 0.07889793 0.09054477\n",
            " 0.07899812 0.08909205 0.09244834 0.09272386 0.09154665 0.10126487\n",
            " 0.10672511 0.11396368 0.10647464 0.09507827 0.12247965 0.11646838\n",
            " 0.10973075 0.09565435 0.08025047 0.07899812 0.08035066 0.08180338\n",
            " 0.07020664 0.10026299 0.10735128 0.10379461 0.10820288 0.10507201\n",
            " 0.10990607 0.11133375 0.10311835 0.10855354 0.11078272 0.10336882\n",
            " 0.09362555 0.08598622 0.10316844 0.10386976 0.10261741 0.09966187\n",
            " 0.0932681  0.0932681  0.09170499 0.09064289 0.08943857 0.0881374\n",
            " 0.08677946 0.08539635 0.08401126 0.08264028 0.0812941  0.0799794\n",
            " 0.07870008 0.07745801 0.07625376 0.07508697 0.07395673 0.07286172\n",
            " 0.07180036 0.07077099 0.06977186 0.06880127 0.06785756 0.06693917\n",
            " 0.06604464 0.06517261 0.06432188 0.0634914  0.06268017 0.06188736\n",
            " 0.06111223 0.06035424 0.05961283 0.05888758 0.05817809 0.05748404\n",
            " 0.05680519 0.05614129 0.05549213 0.05485749 0.05423716 0.05363096\n",
            " 0.05303878 0.05246032 0.05189545 0.05134392 0.05080545 0.05027986\n",
            " 0.04976691 0.04926631 0.04877785 0.04830122 0.04783617 0.04738242\n",
            " 0.04693978 0.04650792 0.04608653 0.04567537]\n",
            "28 day output [[0.04527421]]\n",
            "29 day input [0.08328115 0.0841077  0.08050094 0.07889793 0.09054477 0.07899812\n",
            " 0.08909205 0.09244834 0.09272386 0.09154665 0.10126487 0.10672511\n",
            " 0.11396368 0.10647464 0.09507827 0.12247965 0.11646838 0.10973075\n",
            " 0.09565435 0.08025047 0.07899812 0.08035066 0.08180338 0.07020664\n",
            " 0.10026299 0.10735128 0.10379461 0.10820288 0.10507201 0.10990607\n",
            " 0.11133375 0.10311835 0.10855354 0.11078272 0.10336882 0.09362555\n",
            " 0.08598622 0.10316844 0.10386976 0.10261741 0.09966187 0.0932681\n",
            " 0.0932681  0.09170499 0.09064289 0.08943857 0.0881374  0.08677946\n",
            " 0.08539635 0.08401126 0.08264028 0.0812941  0.0799794  0.07870008\n",
            " 0.07745801 0.07625376 0.07508697 0.07395673 0.07286172 0.07180036\n",
            " 0.07077099 0.06977186 0.06880127 0.06785756 0.06693917 0.06604464\n",
            " 0.06517261 0.06432188 0.0634914  0.06268017 0.06188736 0.06111223\n",
            " 0.06035424 0.05961283 0.05888758 0.05817809 0.05748404 0.05680519\n",
            " 0.05614129 0.05549213 0.05485749 0.05423716 0.05363096 0.05303878\n",
            " 0.05246032 0.05189545 0.05134392 0.05080545 0.05027986 0.04976691\n",
            " 0.04926631 0.04877785 0.04830122 0.04783617 0.04738242 0.04693978\n",
            " 0.04650792 0.04608653 0.04567537 0.04527421]\n",
            "29 day output [[0.04488279]]\n",
            "[[0.06111223250627518], [0.060354240238666534], [0.059612832963466644], [0.058887578547000885], [0.05817808955907822], [0.057484038174152374], [0.05680518597364426], [0.05614129453897476], [0.05549212545156479], [0.054857492446899414], [0.05423716455698013], [0.05363095551729202], [0.05303877592086792], [0.05246032029390335], [0.05189545452594757], [0.05134391784667969], [0.05080544948577881], [0.050279855728149414], [0.049766905605793], [0.049266308546066284], [0.04877784848213196], [0.04830121994018555], [0.047836169600486755], [0.0473824217915535], [0.046939775347709656], [0.04650791734457016], [0.04608652740716934], [0.0456753745675087], [0.04527420550584793], [0.044882792979478836]]\n"
          ]
        }
      ]
    },
    {
      "cell_type": "code",
      "source": [
        "day_new=np.arange(1,101)\n",
        "day_pred=np.arange(101,131)\n"
      ],
      "metadata": {
        "id": "nfvWrnemp7x2"
      },
      "execution_count": 109,
      "outputs": []
    },
    {
      "cell_type": "code",
      "source": [
        "import matplotlib.pyplot as plt"
      ],
      "metadata": {
        "id": "aDFmwbf0qlcx"
      },
      "execution_count": 110,
      "outputs": []
    },
    {
      "cell_type": "code",
      "source": [
        "\n",
        "len(df1)"
      ],
      "metadata": {
        "colab": {
          "base_uri": "https://localhost:8080/"
        },
        "id": "2Xepp8XoqoDk",
        "outputId": "28e5510d-63a2-45b9-a8da-207832b5b201"
      },
      "execution_count": 111,
      "outputs": [
        {
          "output_type": "execute_result",
          "data": {
            "text/plain": [
              "1257"
            ]
          },
          "metadata": {},
          "execution_count": 111
        }
      ]
    },
    {
      "cell_type": "code",
      "source": [
        "plt.plot(day_new,scaler.inverse_transform(df1[1157:]))\n",
        "plt.plot(day_pred,scaler.inverse_transform(lst_output))"
      ],
      "metadata": {
        "colab": {
          "base_uri": "https://localhost:8080/",
          "height": 282
        },
        "id": "O-OVI8PYqo4y",
        "outputId": "82b9c53d-779c-4cb9-b1b5-39e46c151e07"
      },
      "execution_count": 112,
      "outputs": [
        {
          "output_type": "execute_result",
          "data": {
            "text/plain": [
              "[<matplotlib.lines.Line2D at 0x7f635b9612e0>]"
            ]
          },
          "metadata": {},
          "execution_count": 112
        },
        {
          "output_type": "display_data",
          "data": {
            "text/plain": [
              "<Figure size 432x288 with 1 Axes>"
            ],
            "image/png": "[encoded data removed]"
          },
          "metadata": {
            "needs_background": "light"
          }
        }
      ]
    },
    {
      "cell_type": "code",
      "source": [
        "df3=df1.tolist()\n",
        "df3.extend(lst_output)\n",
        "plt.plot(df3[1200:])"
      ],
      "metadata": {
        "colab": {
          "base_uri": "https://localhost:8080/",
          "height": 282
        },
        "id": "h4qPKL25qrgO",
        "outputId": "4887d58e-adc1-49f2-c7db-7e815ef7e167"
      },
      "execution_count": 113,
      "outputs": [
        {
          "output_type": "execute_result",
          "data": {
            "text/plain": [
              "[<matplotlib.lines.Line2D at 0x7f635acdcee0>]"
            ]
          },
          "metadata": {},
          "execution_count": 113
        },
        {
          "output_type": "display_data",
          "data": {
            "text/plain": [
              "<Figure size 432x288 with 1 Axes>"
            ],
            "image/png": "[encoded data removed]"
          },
          "metadata": {
            "needs_background": "light"
          }
        }
      ]
    },
    {
      "cell_type": "code",
      "source": [],
      "metadata": {
        "id": "FaSDFvITq7IP"
      },
      "execution_count": null,
      "outputs": []
    }
  ]
}